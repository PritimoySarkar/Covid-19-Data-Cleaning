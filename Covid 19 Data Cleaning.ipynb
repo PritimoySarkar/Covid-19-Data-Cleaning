{
 "cells": [
  {
   "cell_type": "code",
   "execution_count": 1,
   "metadata": {},
   "outputs": [],
   "source": [
    "import pandas as p\n",
    "import seaborn as sb"
   ]
  },
  {
   "cell_type": "code",
   "execution_count": 2,
   "metadata": {},
   "outputs": [
    {
     "name": "stdout",
     "output_type": "stream",
     "text": [
      "   cord_uid  sha  source_x                                              title  \\\n",
      "0  8q5ondtn  NaN  Elsevier  Intrauterine virus infections and congenital h...   \n",
      "1  pzfd0e50  NaN  Elsevier                  Coronaviruses in Balkan nephritis   \n",
      "\n",
      "                            doi pmcid  pubmed_id    license  \\\n",
      "0  10.1016/0002-8703(72)90077-4   NaN  4361535.0  els-covid   \n",
      "1  10.1016/0002-8703(80)90355-5   NaN  6243850.0  els-covid   \n",
      "\n",
      "                                            abstract publish_time  \\\n",
      "0  Abstract The etiologic basis for the vast majo...   1972-12-31   \n",
      "1                                                NaN   1980-03-31   \n",
      "\n",
      "                                             authors                 journal  \\\n",
      "0                                  Overall, James C.  American Heart Journal   \n",
      "1  Georgescu, Leonida; Diosi, Peter; Buţiu, Ioan;...  American Heart Journal   \n",
      "\n",
      "   Microsoft Academic Paper ID WHO #Covidence  has_pdf_parse  \\\n",
      "0                          NaN            NaN          False   \n",
      "1                          NaN            NaN          False   \n",
      "\n",
      "   has_pmc_xml_parse  full_text_file  \\\n",
      "0              False  custom_license   \n",
      "1              False  custom_license   \n",
      "\n",
      "                                            url  \n",
      "0  https://doi.org/10.1016/0002-8703(72)90077-4  \n",
      "1  https://doi.org/10.1016/0002-8703(80)90355-5  \n"
     ]
    },
    {
     "name": "stderr",
     "output_type": "stream",
     "text": [
      "C:\\Users\\User\\Anaconda3\\lib\\site-packages\\IPython\\core\\interactiveshell.py:3049: DtypeWarning: Columns (13) have mixed types. Specify dtype option on import or set low_memory=False.\n",
      "  interactivity=interactivity, compiler=compiler, result=result)\n"
     ]
    }
   ],
   "source": [
    "df=p.read_csv('metadata.csv')\n",
    "print(df.head(2))"
   ]
  },
  {
   "cell_type": "code",
   "execution_count": 3,
   "metadata": {},
   "outputs": [],
   "source": [
    "df=df.drop(['sha'],axis=1)\n",
    "df=df.drop(['pmcid'],axis=1)\n",
    "df=df.drop(['pubmed_id'],axis=1)\n",
    "df=df.drop(['Microsoft Academic Paper ID'],axis=1)\n",
    "df=df.drop(['WHO #Covidence'],axis=1)\n",
    "df=df.drop(['has_pdf_parse'],axis=1)\n",
    "df=df.drop(['full_text_file'],axis=1)\n",
    "df=df.drop(['cord_uid'],axis=1)\n",
    "df=df.drop(['has_pmc_xml_parse'],axis=1)\n",
    "df=df.drop(['url'],axis=1)\n",
    "df=df.drop(['doi'],axis=1)"
   ]
  },
  {
   "cell_type": "markdown",
   "metadata": {},
   "source": [
    "# Upto This only some the irrelevent attributes of the raw data is removed"
   ]
  },
  {
   "cell_type": "code",
   "execution_count": 4,
   "metadata": {},
   "outputs": [
    {
     "data": {
      "text/html": [
       "<div>\n",
       "<style scoped>\n",
       "    .dataframe tbody tr th:only-of-type {\n",
       "        vertical-align: middle;\n",
       "    }\n",
       "\n",
       "    .dataframe tbody tr th {\n",
       "        vertical-align: top;\n",
       "    }\n",
       "\n",
       "    .dataframe thead th {\n",
       "        text-align: right;\n",
       "    }\n",
       "</style>\n",
       "<table border=\"1\" class=\"dataframe\">\n",
       "  <thead>\n",
       "    <tr style=\"text-align: right;\">\n",
       "      <th></th>\n",
       "      <th>source_x</th>\n",
       "      <th>title</th>\n",
       "      <th>license</th>\n",
       "      <th>abstract</th>\n",
       "      <th>publish_time</th>\n",
       "      <th>authors</th>\n",
       "      <th>journal</th>\n",
       "    </tr>\n",
       "  </thead>\n",
       "  <tbody>\n",
       "    <tr>\n",
       "      <th>0</th>\n",
       "      <td>Elsevier</td>\n",
       "      <td>Intrauterine virus infections and congenital h...</td>\n",
       "      <td>els-covid</td>\n",
       "      <td>Abstract The etiologic basis for the vast majo...</td>\n",
       "      <td>1972-12-31</td>\n",
       "      <td>Overall, James C.</td>\n",
       "      <td>American Heart Journal</td>\n",
       "    </tr>\n",
       "    <tr>\n",
       "      <th>1</th>\n",
       "      <td>Elsevier</td>\n",
       "      <td>Coronaviruses in Balkan nephritis</td>\n",
       "      <td>els-covid</td>\n",
       "      <td>NaN</td>\n",
       "      <td>1980-03-31</td>\n",
       "      <td>Georgescu, Leonida; Diosi, Peter; Buţiu, Ioan;...</td>\n",
       "      <td>American Heart Journal</td>\n",
       "    </tr>\n",
       "    <tr>\n",
       "      <th>2</th>\n",
       "      <td>Elsevier</td>\n",
       "      <td>Cigarette smoking and coronary heart disease: ...</td>\n",
       "      <td>els-covid</td>\n",
       "      <td>NaN</td>\n",
       "      <td>1980-03-31</td>\n",
       "      <td>Friedman, Gary D</td>\n",
       "      <td>American Heart Journal</td>\n",
       "    </tr>\n",
       "    <tr>\n",
       "      <th>3</th>\n",
       "      <td>Elsevier</td>\n",
       "      <td>Clinical and immunologic studies in identical ...</td>\n",
       "      <td>els-covid</td>\n",
       "      <td>Abstract Middle-aged female identical twins, o...</td>\n",
       "      <td>1973-08-31</td>\n",
       "      <td>Brunner, Carolyn M.; Horwitz, David A.; Shann,...</td>\n",
       "      <td>The American Journal of Medicine</td>\n",
       "    </tr>\n",
       "    <tr>\n",
       "      <th>4</th>\n",
       "      <td>Elsevier</td>\n",
       "      <td>Epidemiology of community-acquired respiratory...</td>\n",
       "      <td>els-covid</td>\n",
       "      <td>Abstract Upper respiratory tract infections ar...</td>\n",
       "      <td>1985-06-28</td>\n",
       "      <td>Garibaldi, Richard A.</td>\n",
       "      <td>The American Journal of Medicine</td>\n",
       "    </tr>\n",
       "    <tr>\n",
       "      <th>5</th>\n",
       "      <td>Elsevier</td>\n",
       "      <td>Infectious diarrhea: Pathogenesis and risk fac...</td>\n",
       "      <td>els-covid</td>\n",
       "      <td>Abstract Our understanding of the pathogenesis...</td>\n",
       "      <td>1985-06-28</td>\n",
       "      <td>Cantey, J.Robert</td>\n",
       "      <td>The American Journal of Medicine</td>\n",
       "    </tr>\n",
       "    <tr>\n",
       "      <th>6</th>\n",
       "      <td>Elsevier</td>\n",
       "      <td>New perspectives on the pathogenesis of rheuma...</td>\n",
       "      <td>els-covid</td>\n",
       "      <td>Abstract In the pathogenesis of rheumatoid art...</td>\n",
       "      <td>1988-10-14</td>\n",
       "      <td>Zvaifler, Nathan J.</td>\n",
       "      <td>The American Journal of Medicine</td>\n",
       "    </tr>\n",
       "    <tr>\n",
       "      <th>7</th>\n",
       "      <td>Elsevier</td>\n",
       "      <td>Management of acute and chronic respiratory tr...</td>\n",
       "      <td>els-covid</td>\n",
       "      <td>Abstract Pharyngitis, bronchitis, and pneumoni...</td>\n",
       "      <td>1988-09-16</td>\n",
       "      <td>Ellner, Jerrold J.</td>\n",
       "      <td>The American Journal of Medicine</td>\n",
       "    </tr>\n",
       "    <tr>\n",
       "      <th>8</th>\n",
       "      <td>Elsevier</td>\n",
       "      <td>Acute bronchitis: Results of U.S. and European...</td>\n",
       "      <td>els-covid</td>\n",
       "      <td>Abstract Acute bronchitis, an illness frequent...</td>\n",
       "      <td>1992-06-22</td>\n",
       "      <td>Dere, Willard H.</td>\n",
       "      <td>The American Journal of Medicine</td>\n",
       "    </tr>\n",
       "    <tr>\n",
       "      <th>9</th>\n",
       "      <td>Elsevier</td>\n",
       "      <td>Clinical and Immunologic Responses in Patients...</td>\n",
       "      <td>els-covid</td>\n",
       "      <td>NaN</td>\n",
       "      <td>1975-10-31</td>\n",
       "      <td>Knopf, Harry L.S.; Hierholzer, John C.</td>\n",
       "      <td>American Journal of Ophthalmology</td>\n",
       "    </tr>\n",
       "  </tbody>\n",
       "</table>\n",
       "</div>"
      ],
      "text/plain": [
       "   source_x                                              title    license  \\\n",
       "0  Elsevier  Intrauterine virus infections and congenital h...  els-covid   \n",
       "1  Elsevier                  Coronaviruses in Balkan nephritis  els-covid   \n",
       "2  Elsevier  Cigarette smoking and coronary heart disease: ...  els-covid   \n",
       "3  Elsevier  Clinical and immunologic studies in identical ...  els-covid   \n",
       "4  Elsevier  Epidemiology of community-acquired respiratory...  els-covid   \n",
       "5  Elsevier  Infectious diarrhea: Pathogenesis and risk fac...  els-covid   \n",
       "6  Elsevier  New perspectives on the pathogenesis of rheuma...  els-covid   \n",
       "7  Elsevier  Management of acute and chronic respiratory tr...  els-covid   \n",
       "8  Elsevier  Acute bronchitis: Results of U.S. and European...  els-covid   \n",
       "9  Elsevier  Clinical and Immunologic Responses in Patients...  els-covid   \n",
       "\n",
       "                                            abstract publish_time  \\\n",
       "0  Abstract The etiologic basis for the vast majo...   1972-12-31   \n",
       "1                                                NaN   1980-03-31   \n",
       "2                                                NaN   1980-03-31   \n",
       "3  Abstract Middle-aged female identical twins, o...   1973-08-31   \n",
       "4  Abstract Upper respiratory tract infections ar...   1985-06-28   \n",
       "5  Abstract Our understanding of the pathogenesis...   1985-06-28   \n",
       "6  Abstract In the pathogenesis of rheumatoid art...   1988-10-14   \n",
       "7  Abstract Pharyngitis, bronchitis, and pneumoni...   1988-09-16   \n",
       "8  Abstract Acute bronchitis, an illness frequent...   1992-06-22   \n",
       "9                                                NaN   1975-10-31   \n",
       "\n",
       "                                             authors  \\\n",
       "0                                  Overall, James C.   \n",
       "1  Georgescu, Leonida; Diosi, Peter; Buţiu, Ioan;...   \n",
       "2                                   Friedman, Gary D   \n",
       "3  Brunner, Carolyn M.; Horwitz, David A.; Shann,...   \n",
       "4                              Garibaldi, Richard A.   \n",
       "5                                   Cantey, J.Robert   \n",
       "6                                Zvaifler, Nathan J.   \n",
       "7                                 Ellner, Jerrold J.   \n",
       "8                                   Dere, Willard H.   \n",
       "9             Knopf, Harry L.S.; Hierholzer, John C.   \n",
       "\n",
       "                             journal  \n",
       "0             American Heart Journal  \n",
       "1             American Heart Journal  \n",
       "2             American Heart Journal  \n",
       "3   The American Journal of Medicine  \n",
       "4   The American Journal of Medicine  \n",
       "5   The American Journal of Medicine  \n",
       "6   The American Journal of Medicine  \n",
       "7   The American Journal of Medicine  \n",
       "8   The American Journal of Medicine  \n",
       "9  American Journal of Ophthalmology  "
      ]
     },
     "execution_count": 4,
     "metadata": {},
     "output_type": "execute_result"
    }
   ],
   "source": [
    "df.head(10)"
   ]
  },
  {
   "cell_type": "code",
   "execution_count": 5,
   "metadata": {},
   "outputs": [
    {
     "data": {
      "text/plain": [
       "2020          585\n",
       "2006-12-31    358\n",
       "2016-12-31    295\n",
       "2008-12-31    279\n",
       "2012-12-31    260\n",
       "2017-12-31    244\n",
       "2020-03-31    229\n",
       "2014-12-31    228\n",
       "2019-12-31    227\n",
       "2015-12-31    217\n",
       "2018-12-31    211\n",
       "2011-12-31    205\n",
       "2009-12-31    205\n",
       "2007-12-31    204\n",
       "2005-12-31    179\n",
       "2010-12-31    174\n",
       "2013-12-31    166\n",
       "2004-12-31    164\n",
       "2020-03-30    161\n",
       "2020-03-27    136\n",
       "2020-03-20    133\n",
       "2003          121\n",
       "2020-12-31    109\n",
       "2004          105\n",
       "2003-12-31     96\n",
       "2020-03-12     90\n",
       "2020-04-30     89\n",
       "2020-03-06     88\n",
       "2020-02-29     87\n",
       "2020-03-13     87\n",
       "             ... \n",
       "2006-10-09      1\n",
       "2009-03-23      1\n",
       "2007-06-28      1\n",
       "2014-09-07      1\n",
       "2003-04-03      1\n",
       "2004-03-21      1\n",
       "2004-06-10      1\n",
       "2013-04-07      1\n",
       "1970-09-26      1\n",
       "1991-02-01      1\n",
       "2012-05-10      1\n",
       "1978-07-15      1\n",
       "2011-04-12      1\n",
       "1992-09-18      1\n",
       "2009-02-21      1\n",
       "2008-09-21      1\n",
       "2001-06-03      1\n",
       "1988-02-03      1\n",
       "2004-07-30      1\n",
       "2010-12-11      1\n",
       "2004-05-20      1\n",
       "2008-05-09      1\n",
       "2005-11-16      1\n",
       "2016-12-17      1\n",
       "1990-04-10      1\n",
       "1998-01-01      1\n",
       "2005-02-02      1\n",
       "1992-11-01      1\n",
       "1993-01-15      1\n",
       "2002-11-02      1\n",
       "Name: publish_time, Length: 6439, dtype: int64"
      ]
     },
     "execution_count": 5,
     "metadata": {},
     "output_type": "execute_result"
    }
   ],
   "source": [
    "df['publish_time'].value_counts()"
   ]
  },
  {
   "cell_type": "code",
   "execution_count": 6,
   "metadata": {},
   "outputs": [
    {
     "name": "stdout",
     "output_type": "stream",
     "text": [
      "(4324, 7)\n"
     ]
    }
   ],
   "source": [
    "df=df[df['title'].notna()]\n",
    "train_data=\"\"\n",
    "df=df[df['publish_time'].notna()]\n",
    "for i, row in df.iterrows():\n",
    "    if (int(df.loc[i,'publish_time'][:4])<2020):\n",
    "        train_data+=df.loc[i,'title']\n",
    "        df.drop([i], axis = 0, inplace = True)\n",
    "    #else:\n",
    "        #train_data+=\" \"\n",
    "        #train_data+=df.loc[i,'title']\n",
    "print(df.shape)"
   ]
  },
  {
   "cell_type": "code",
   "execution_count": 7,
   "metadata": {},
   "outputs": [
    {
     "data": {
      "text/html": [
       "<div>\n",
       "<style scoped>\n",
       "    .dataframe tbody tr th:only-of-type {\n",
       "        vertical-align: middle;\n",
       "    }\n",
       "\n",
       "    .dataframe tbody tr th {\n",
       "        vertical-align: top;\n",
       "    }\n",
       "\n",
       "    .dataframe thead th {\n",
       "        text-align: right;\n",
       "    }\n",
       "</style>\n",
       "<table border=\"1\" class=\"dataframe\">\n",
       "  <thead>\n",
       "    <tr style=\"text-align: right;\">\n",
       "      <th></th>\n",
       "      <th>source_x</th>\n",
       "      <th>title</th>\n",
       "      <th>license</th>\n",
       "      <th>abstract</th>\n",
       "      <th>publish_time</th>\n",
       "      <th>authors</th>\n",
       "      <th>journal</th>\n",
       "    </tr>\n",
       "  </thead>\n",
       "  <tbody>\n",
       "    <tr>\n",
       "      <th>1784</th>\n",
       "      <td>Elsevier</td>\n",
       "      <td>Modifiable Areal Unit Problem</td>\n",
       "      <td>els-covid</td>\n",
       "      <td>Abstract The modifiable areal unit problem, MA...</td>\n",
       "      <td>2020-12-31</td>\n",
       "      <td>Buzzelli, Michael</td>\n",
       "      <td>International Encyclopedia of Human Geography</td>\n",
       "    </tr>\n",
       "    <tr>\n",
       "      <th>1785</th>\n",
       "      <td>Elsevier</td>\n",
       "      <td>Globalization of Communicable Diseases</td>\n",
       "      <td>els-covid</td>\n",
       "      <td>Abstract Fueled by globalization and human beh...</td>\n",
       "      <td>2020-12-31</td>\n",
       "      <td>Oppong, Joseph R.</td>\n",
       "      <td>International Encyclopedia of Human Geography</td>\n",
       "    </tr>\n",
       "    <tr>\n",
       "      <th>1786</th>\n",
       "      <td>Elsevier</td>\n",
       "      <td>Diseases, Emerging and Infectious</td>\n",
       "      <td>els-covid</td>\n",
       "      <td>Abstract Emerging and infectious diseases have...</td>\n",
       "      <td>2020-12-31</td>\n",
       "      <td>Antabe, Roger; Ziegler, Bianca Rosa</td>\n",
       "      <td>International Encyclopedia of Human Geography</td>\n",
       "    </tr>\n",
       "    <tr>\n",
       "      <th>1787</th>\n",
       "      <td>Elsevier</td>\n",
       "      <td>Interdisciplinarity</td>\n",
       "      <td>els-covid</td>\n",
       "      <td>Abstract Interdisciplinarity employs multiple ...</td>\n",
       "      <td>2020-12-31</td>\n",
       "      <td>Raento, Pauliina</td>\n",
       "      <td>International Encyclopedia of Human Geography</td>\n",
       "    </tr>\n",
       "    <tr>\n",
       "      <th>1792</th>\n",
       "      <td>Elsevier</td>\n",
       "      <td>15 An overview of automated room disinfection ...</td>\n",
       "      <td>els-covid</td>\n",
       "      <td>Abstract Conventional disinfection methods are...</td>\n",
       "      <td>2020-12-31</td>\n",
       "      <td>Otter, J.A.; Yezli, S.; Barbut, F.; Perl, T.M.</td>\n",
       "      <td>Decontamination in Hospitals and Healthcare</td>\n",
       "    </tr>\n",
       "    <tr>\n",
       "      <th>1793</th>\n",
       "      <td>Elsevier</td>\n",
       "      <td>Chapter 5 Bay Leaf</td>\n",
       "      <td>els-covid</td>\n",
       "      <td>Abstract Bay leaf (Laurus nobilis) is a perenn...</td>\n",
       "      <td>2020-12-31</td>\n",
       "      <td>Batool, Saima; Khera, Rasheed Ahmad; Hanif, Mu...</td>\n",
       "      <td>Medicinal Plants of South Asia</td>\n",
       "    </tr>\n",
       "    <tr>\n",
       "      <th>2557</th>\n",
       "      <td>Elsevier</td>\n",
       "      <td>Pneumonia</td>\n",
       "      <td>els-covid</td>\n",
       "      <td>Abstract Pneumonia remains the main cause of m...</td>\n",
       "      <td>2020-12-31</td>\n",
       "      <td>Banu, Buyukaydin</td>\n",
       "      <td>Encyclopedia of Biomedical Gerontology</td>\n",
       "    </tr>\n",
       "    <tr>\n",
       "      <th>2560</th>\n",
       "      <td>Elsevier</td>\n",
       "      <td>Liver Disease Associated with Non-Hepatitis Vi...</td>\n",
       "      <td>els-covid</td>\n",
       "      <td>Abstract Hepatitis is commonly associated with...</td>\n",
       "      <td>2020-12-31</td>\n",
       "      <td>Spengler, Ulrich</td>\n",
       "      <td>Encyclopedia of Gastroenterology</td>\n",
       "    </tr>\n",
       "    <tr>\n",
       "      <th>2729</th>\n",
       "      <td>Elsevier</td>\n",
       "      <td>Virus Taxonomy</td>\n",
       "      <td>els-covid</td>\n",
       "      <td>Abstract Virus taxonomy is the classification ...</td>\n",
       "      <td>2020-12-31</td>\n",
       "      <td>Kuhn, Jens H.</td>\n",
       "      <td>Reference Module in Life Sciences</td>\n",
       "    </tr>\n",
       "    <tr>\n",
       "      <th>2730</th>\n",
       "      <td>Elsevier</td>\n",
       "      <td>Antiviral Innate Immunity: Introduction ☆</td>\n",
       "      <td>els-covid</td>\n",
       "      <td>Abstract The concept of “innate immunity” incl...</td>\n",
       "      <td>2020-12-31</td>\n",
       "      <td>Weber, Friedemann</td>\n",
       "      <td>Reference Module in Life Sciences</td>\n",
       "    </tr>\n",
       "  </tbody>\n",
       "</table>\n",
       "</div>"
      ],
      "text/plain": [
       "      source_x                                              title    license  \\\n",
       "1784  Elsevier                      Modifiable Areal Unit Problem  els-covid   \n",
       "1785  Elsevier             Globalization of Communicable Diseases  els-covid   \n",
       "1786  Elsevier                  Diseases, Emerging and Infectious  els-covid   \n",
       "1787  Elsevier                                Interdisciplinarity  els-covid   \n",
       "1792  Elsevier  15 An overview of automated room disinfection ...  els-covid   \n",
       "1793  Elsevier                                 Chapter 5 Bay Leaf  els-covid   \n",
       "2557  Elsevier                                          Pneumonia  els-covid   \n",
       "2560  Elsevier  Liver Disease Associated with Non-Hepatitis Vi...  els-covid   \n",
       "2729  Elsevier                                     Virus Taxonomy  els-covid   \n",
       "2730  Elsevier          Antiviral Innate Immunity: Introduction ☆  els-covid   \n",
       "\n",
       "                                               abstract publish_time  \\\n",
       "1784  Abstract The modifiable areal unit problem, MA...   2020-12-31   \n",
       "1785  Abstract Fueled by globalization and human beh...   2020-12-31   \n",
       "1786  Abstract Emerging and infectious diseases have...   2020-12-31   \n",
       "1787  Abstract Interdisciplinarity employs multiple ...   2020-12-31   \n",
       "1792  Abstract Conventional disinfection methods are...   2020-12-31   \n",
       "1793  Abstract Bay leaf (Laurus nobilis) is a perenn...   2020-12-31   \n",
       "2557  Abstract Pneumonia remains the main cause of m...   2020-12-31   \n",
       "2560  Abstract Hepatitis is commonly associated with...   2020-12-31   \n",
       "2729  Abstract Virus taxonomy is the classification ...   2020-12-31   \n",
       "2730  Abstract The concept of “innate immunity” incl...   2020-12-31   \n",
       "\n",
       "                                                authors  \\\n",
       "1784                                  Buzzelli, Michael   \n",
       "1785                                  Oppong, Joseph R.   \n",
       "1786                Antabe, Roger; Ziegler, Bianca Rosa   \n",
       "1787                                   Raento, Pauliina   \n",
       "1792     Otter, J.A.; Yezli, S.; Barbut, F.; Perl, T.M.   \n",
       "1793  Batool, Saima; Khera, Rasheed Ahmad; Hanif, Mu...   \n",
       "2557                                   Banu, Buyukaydin   \n",
       "2560                                   Spengler, Ulrich   \n",
       "2729                                      Kuhn, Jens H.   \n",
       "2730                                  Weber, Friedemann   \n",
       "\n",
       "                                            journal  \n",
       "1784  International Encyclopedia of Human Geography  \n",
       "1785  International Encyclopedia of Human Geography  \n",
       "1786  International Encyclopedia of Human Geography  \n",
       "1787  International Encyclopedia of Human Geography  \n",
       "1792    Decontamination in Hospitals and Healthcare  \n",
       "1793                 Medicinal Plants of South Asia  \n",
       "2557         Encyclopedia of Biomedical Gerontology  \n",
       "2560               Encyclopedia of Gastroenterology  \n",
       "2729              Reference Module in Life Sciences  \n",
       "2730              Reference Module in Life Sciences  "
      ]
     },
     "execution_count": 7,
     "metadata": {},
     "output_type": "execute_result"
    }
   ],
   "source": [
    "df.head(10)"
   ]
  },
  {
   "cell_type": "code",
   "execution_count": 8,
   "metadata": {},
   "outputs": [
    {
     "data": {
      "text/plain": [
       "Department of Error                                                                                                                                                                        7\n",
       "Feedback                                                                                                                                                                                   4\n",
       "Estimating case fatality rates of COVID-19                                                                                                                                                 3\n",
       "Working hypothesis                                                                                                                                                                         3\n",
       "Evidence for gastrointestinal infection of SARS-CoV-2                                                                                                                                      2\n",
       "Characteristics of peripheral blood leukocyte differential counts in patients with COVID-19                                                                                                2\n",
       "Countermeasures and treatment for aortic acute syndrome with novel coronavirus pneumonia                                                                                                   2\n",
       "In Case You Haven't Heard…                                                                                                                                                                 2\n",
       "Estimating the basic reproduction number of COVID-19 in Wuhan, China                                                                                                                       2\n",
       "Vicarious traumatization in the general public, members, and non-members of medical teams aiding in COVID-19 control                                                                       2\n",
       "Therapeutic strategies in an outbreak scenario to treat the novel coronavirus originating in Wuhan, China                                                                                  2\n",
       "MERS-CoV infection is associated with downregulation of genes encoding Th1 and Th2 cytokines/chemokines and elevated inflammatory innate immune response in the lower respiratory tract    2\n",
       "Propagation analysis and prediction of the COVID-19                                                                                                                                        2\n",
       "A Novel Coronavirus Outbreak from Wuhan City in China, Rapid Need for Emergency Departments Preparedness and Response; a Letter to Editor                                                  2\n",
       "How to improve adherence with quarantine: Rapid review of the evidence                                                                                                                     2\n",
       "Editorial Board and Contents                                                                                                                                                               2\n",
       "Prediction modeling with data fusion and prevention strategy analysis for the COVID-19 outbreak                                                                                            2\n",
       "Mental health survey of 230 medical staff in a tertiary infectious disease hospital for COVID-19                                                                                           2\n",
       "Management and clinical thinking of Coronavirus Disease 2019                                                                                                                               2\n",
       "Thoughts and suggestions on modern construction of disease prevention and control system                                                                                                   2\n",
       "Infectious disease surveillance update                                                                                                                                                     2\n",
       "Wuhan and Hubei COVID-19 mortality analysis reveals the critical role of timely supply of medical resources                                                                                2\n",
       "Individualized treatment recommendations for lung cancer patients at different stages of treatment during the outbreak of 2019 novel coronavirus disease epidemic                          2\n",
       "Single cell RNA sequencing of 13 human tissues identify cell types and receptors of human coronaviruses                                                                                    2\n",
       "Full-genome evolutionary analysis of the novel corona virus (2019-nCoV) rejects the hypothesis of emergence as a result of a recent recombination event                                    2\n",
       "Suggestions for prevention of 2019 novel coronavirus infection in otolaryngology head and neck surgery medical staff                                                                       2\n",
       "Myocardial injury in patients with COVID-19 pneumonia                                                                                                                                      2\n",
       "Potential impact of seasonal forcing on a SARS-CoV-2 pandemic                                                                                                                              2\n",
       "Cardiac manifestations of patients with COVID-19 pneumonia and related treatment recommendations                                                                                           2\n",
       "The prevention and control of a new coronavirus infection in department of stomatology                                                                                                     2\n",
       "                                                                                                                                                                                          ..\n",
       "Heart injury signs are associated with higher and earlier mortality in coronavirus disease 2019 (COVID-19)                                                                                 1\n",
       "Systematic Review of the Registered Clinical Trials of Coronavirus Disease 2019 (COVID-19)                                                                                                 1\n",
       "Clinical research progresss of antiviral drugs for the novel coronavirus pneumonia                                                                                                         1\n",
       "Active or latent tuberculosis increases susceptibility to COVID-19 and disease severity                                                                                                    1\n",
       "UPLC-MS identification and anticomplement activity of the metabolites of Sophora tonkinensis flavonoids treated with human intestinal bacteria                                             1\n",
       "Evolution and variation of 2019-novel coronavirus                                                                                                                                          1\n",
       "Experts proposal and frequently asked questions of rapid screening and prevention of novel coronavirus pneumonia in children                                                               1\n",
       "Determination of daily reproduction numbers of SARS-CoV2 based on death cases suggests more rapid initial spread in Italy and the United States                                            1\n",
       "Successful treatment for the first confirmed noval coronavirus-infected pneumonia in Guizhou Province                                                                                      1\n",
       "Novel coronavirus infection and pregnancy                                                                                                                                                  1\n",
       "Fungal diseases as neglected pathogens: A wake-up call to public health officials                                                                                                          1\n",
       "[Management strategies for patients with gynecological malignancies during the outbreak of COVID19]                                                                                        1\n",
       "Clinical characteristics of refractory COVID-19 pneumonia in Wuhan, China                                                                                                                  1\n",
       "The SARS-CoV-2 epidemic outbreak: a review of plausible scenarios of containment and mitigation for Mexico                                                                                 1\n",
       "Metagenomic sequencing with spiked primer enrichment for viral diagnostics and genomic surveillance                                                                                        1\n",
       "Emergence of SARS-like coronavirus poses new challenge in China                                                                                                                            1\n",
       "On biological evolution and environmental solutions                                                                                                                                        1\n",
       "Is a COVID19 Quarantine Justified in Chile or USA Right Now?                                                                                                                               1\n",
       "N95 filtering facepiece respirators do not reliably afford respiratory protection during chest compression: A simulation study                                                             1\n",
       "The SARS-CoV-2 Vaccine Pipeline: an Overview                                                                                                                                               1\n",
       "Discovering drugs to treat coronavirus disease 2019 (COVID-19)                                                                                                                             1\n",
       "The way to reduce the\"false negative results\"of 2019 novel coronavirus nucleic acid detection                                                                                              1\n",
       "Topological data analysis to model the shape of immune responses during co-infections                                                                                                      1\n",
       "Spike protein recognition of mammalian ACE2 predicts the host range and an optimized ACE2 for SARS-CoV-2 infection                                                                         1\n",
       "Estimation of COVID-19 outbreak size in Italy                                                                                                                                              1\n",
       "The fecal microbiota of healthy donor horses and geriatric recipients undergoing fecal microbial transplantation for the treatment of diarrhea                                             1\n",
       "The SARS, MERS and novel coronavirus (COVID-19) epidemics, the newest and biggest global health threats: what lessons have we learned?                                                     1\n",
       "Neonatal Transport and COVID-19 outbreak                                                                                                                                                   1\n",
       "Performance of urea-mediated dissociation in reducing false-positive of 2019-nCoV IgM test                                                                                                 1\n",
       "The digestive system is a potential route of 2019-nCov infection: a bioinformatics analysis based on single-cell transcriptomes                                                            1\n",
       "Name: title, Length: 4258, dtype: int64"
      ]
     },
     "execution_count": 8,
     "metadata": {},
     "output_type": "execute_result"
    }
   ],
   "source": [
    "df['title'].value_counts()"
   ]
  },
  {
   "cell_type": "code",
   "execution_count": 9,
   "metadata": {},
   "outputs": [
    {
     "data": {
      "text/plain": [
       "els-covid      1419\n",
       "unk            1069\n",
       "medrvix         839\n",
       "cc-by           445\n",
       "biorxiv         301\n",
       "no-cc            96\n",
       "cc-by-nc-nd      74\n",
       "cc-by-nc         65\n",
       "cc-by-nc-sa       9\n",
       "pd                3\n",
       "cc0               3\n",
       "cc-by-nd          1\n",
       "Name: license, dtype: int64"
      ]
     },
     "execution_count": 9,
     "metadata": {},
     "output_type": "execute_result"
    }
   ],
   "source": [
    "df['license'].value_counts()"
   ]
  },
  {
   "cell_type": "code",
   "execution_count": 10,
   "metadata": {},
   "outputs": [
    {
     "data": {
      "text/plain": [
       "MacKenzie, Debora                                                                                                                                                                                                                                                                                                                                                                 10\n",
       "Nature                                                                                                                                                                                                                                                                                                                                                                             9\n",
       "Hamzelou, Jessica                                                                                                                                                                                                                                                                                                                                                                  8\n",
       "Le Page, Michael                                                                                                                                                                                                                                                                                                                                                                   7\n",
       "Vaughan, Adam                                                                                                                                                                                                                                                                                                                                                                      6\n",
       "Horton, Richard                                                                                                                                                                                                                                                                                                                                                                    6\n",
       "Mahase, Elisabeth                                                                                                                                                                                                                                                                                                                                                                  6\n",
       "Domingo, Esteban                                                                                                                                                                                                                                                                                                                                                                   6\n",
       "The Lancet,                                                                                                                                                                                                                                                                                                                                                                        5\n",
       "Team, Covid- National Incident Room Surveillance                                                                                                                                                                                                                                                                                                                                   5\n",
       "Cohen, Jon                                                                                                                                                                                                                                                                                                                                                                         5\n",
       "Kupferschmidt, Kai                                                                                                                                                                                                                                                                                                                                                                 5\n",
       "Joob, Beuy; Wiwanitkit, Viroj                                                                                                                                                                                                                                                                                                                                                      4\n",
       "Devi, Sharmila                                                                                                                                                                                                                                                                                                                                                                     4\n",
       "Novel Coronavirus Pneumonia Emergency Response Key Places, Protection; Disinfection Technology Team, Chinese Center for Disease Control; Prevention                                                                                                                                                                                                                                3\n",
       "Burki, Talha Khan                                                                                                                                                                                                                                                                                                                                                                  3\n",
       "Maxmen, Amy                                                                                                                                                                                                                                                                                                                                                                        3\n",
       "Igor Nesteruk                                                                                                                                                                                                                                                                                                                                                                      3\n",
       "Al-Tawfiq, Jaffar A.                                                                                                                                                                                                                                                                                                                                                               3\n",
       "Rubin, Eric J.; Baden, Lindsey R.; Morrissey, Stephen                                                                                                                                                                                                                                                                                                                              3\n",
       "Perú. Ministerio de, Salud; Dirección General de Intervenciones Estratégicas en Salud, Pública                                                                                                                                                                                                                                                                                     3\n",
       "Ghosh, Shyamasree                                                                                                                                                                                                                                                                                                                                                                  3\n",
       "Rimmer, Abi                                                                                                                                                                                                                                                                                                                                                                        3\n",
       "Graham, Flora                                                                                                                                                                                                                                                                                                                                                                      3\n",
       "Cyranoski, David                                                                                                                                                                                                                                                                                                                                                                   3\n",
       "Callaway, Ewen                                                                                                                                                                                                                                                                                                                                                                     3\n",
       "Goh, Gerard Kian-Meng; Dunker, A. Keith; Foster, James A.; Uversky, Vladimir N.                                                                                                                                                                                                                                                                                                    3\n",
       "Bagcchi, Sanjeet                                                                                                                                                                                                                                                                                                                                                                   2\n",
       "Elwood, Chelsea; Boucoiran, Isabelle; VanSchalkwyk, Julie; Money, Deborah; Yudin, Mark; Poliquin, Vanessa                                                                                                                                                                                                                                                                          2\n",
       "Brasil. Ministerio da, Saude                                                                                                                                                                                                                                                                                                                                                       2\n",
       "                                                                                                                                                                                                                                                                                                                                                                                  ..\n",
       "Daniel Sanchez-Taltavull; Daniel Candinas; Edgar Roldan; Guido Beldi                                                                                                                                                                                                                                                                                                               1\n",
       "Nooh, Hanaa Zakaria; Alshammary, Rawan Humaidy; Alenezy, Jomanh Mohammed; Alrowaili, Njood Hial; Alsharari, Amani Jaded; Alenzi, Njood Menwer; Sabaa, Hanan E.                                                                                                                                                                                                                     1\n",
       "Akhrymuk, Ivan; Lin, Shih-Chao; Sun, Mei; Patnaik, Anurag; Lehman, Caitlin; Altamura, Louis; Minogue, Timothy; Lepene, Ben; van Hoek, Monique L.; Kehn-Hall, Kylene                                                                                                                                                                                                                1\n",
       "Marshall, Michael                                                                                                                                                                                                                                                                                                                                                                  1\n",
       "Cheng, Zenghui; Lu, Yong; Cao, Qiqi; Qin, Le; Pan, Zilai; Yan, Fuhua; Yang, Wenjie                                                                                                                                                                                                                                                                                                 1\n",
       "Zian Zhuang; Peihua Cao; Shi Zhao; Yijun Lou; Weiming Wang; Shu Yang; Lin Yang; Daihai He                                                                                                                                                                                                                                                                                          1\n",
       "Aiping Wu; Peihua Niu; Lulan Wang; Hangyu Zhou; Xiang Zhao; Wenling Wang; Jingfeng Wang; Chengyang Ji; Xiao Ding; Xianyue Wang; Roujian Lu; Sarah Gold; Saba Aliyari; Shilei Zhang; Ellee Vikram; Angela Zou; Emily Lenh; Janet Chen; Fei Ye; Na Han; Yousong Peng; Haitao Guo; Guizhen Wu; Taijiao Jiang; Wenjie Tan; Genhong Cheng                                               1\n",
       "Tanne, Janice Hopkins                                                                                                                                                                                                                                                                                                                                                              1\n",
       "Curti Lucia; Pereyra-Bonnet Federico; Gimenez Carla Alejandra                                                                                                                                                                                                                                                                                                                      1\n",
       "Bingyi Yang; Justin Lessler; Huachen Zhu; Chaoqiang Jiang; Jonathan M. Read; James A Hay; Kin On Kwok; Ruiyin Shen; Yi Guan; Steven Riley; Derek A.T. Cummings                                                                                                                                                                                                                     1\n",
       "Ding, Defang; Zhu, Caisong; Yao, Weiwu                                                                                                                                                                                                                                                                                                                                             1\n",
       "Xiao, Han; Zhang, Yan; Kong, Desheng; Li, Shiyue; Yang, Ningxi                                                                                                                                                                                                                                                                                                                     1\n",
       "Golnaz Vaseghi; Marjan Mansourian; Raheleh Karimi; Kiyan Heshmat-Ghahdarijani; Sadegh Baradaran Mahdavi; Amirhossein Pezeshki; Behrooz Ataei; Alireza Zandifar; Omid Shafaat; Shaghayegh Haghjoo Javanmard                                                                                                                                                                         1\n",
       "She, Jun; Jiang, Jinjun; Ye, Ling; Hu, Lijuan; Bai, Chunxue; Song, Yuanlin                                                                                                                                                                                                                                                                                                         1\n",
       "Cordes, Anne K.; Heim, Albert                                                                                                                                                                                                                                                                                                                                                      1\n",
       "Wang, Shuai; Gong, Gaolang; Zhong, Suyu; Duan, Jia; Yin, Zhiyang; Chang, Miao; Wei, Shengnan; Jiang, Xiaowei; Zhou, Yifang; Tang, Yanqing; Wang, Fei                                                                                                                                                                                                                               1\n",
       "Le Van Tan; Nghiem My Ngoc; Bui Thi Ton That; Le Thi Tam Uyen; Nguyen Thi Thu Hong; Nguyen Thi Phuong Dung; Le Nguyen Truc Nhu; Tran Tan Thanh; Dinh Nguyen Huy Man; Nguyen Thanh Phong; Tran Tinh Hien; Nguyen Thanh Truong; Guy Thwaites; Nguyen Van Vinh Chau                                                                                                                   1\n",
       "Wigginton, Krista R.; Boehm, Alexandria B.                                                                                                                                                                                                                                                                                                                                         1\n",
       "Roda, Weston C.; Varughese, Marie B.; Han, Donglin; Li, Michael Y.                                                                                                                                                                                                                                                                                                                 1\n",
       "Kiselev, Daniel; Matsvay, Alina; Abramov, Ivan; Dedkov, Vladimir; Shipulin, German; Khafizov, Kamil                                                                                                                                                                                                                                                                                1\n",
       "Kaikai Zheng; Ruoyu Dong; Huan Wang; Steve Granick                                                                                                                                                                                                                                                                                                                                 1\n",
       "Zingone, Fabiana; Savarino, Edoardo Vincenzo                                                                                                                                                                                                                                                                                                                                       1\n",
       "Simona Bignami; Daniela Ghio                                                                                                                                                                                                                                                                                                                                                       1\n",
       "Arunachalam Ramaiah; Vaithilingaraja Arumugaswami                                                                                                                                                                                                                                                                                                                                  1\n",
       "Anjue Tang; Wenhui Xu; min shen; Peifen Chen; Guobao Li; Yingxia Liu; Lei Liu                                                                                                                                                                                                                                                                                                      1\n",
       "Kitano, Taito; Nishikawa, Hiroki; Suzuki, Rika; Onaka, Masayuki; Nishiyama, Atsuko; Kitagawa, Daisuke; Oka, Miyako; Masuo, Kazue; Yoshida, Sayaka                                                                                                                                                                                                                                  1\n",
       "Salamatbakhsh, Maryam; Mobaraki, Kazhal; Ahmadzadeh, Jamal                                                                                                                                                                                                                                                                                                                         1\n",
       "Cimolai, Nevio                                                                                                                                                                                                                                                                                                                                                                     1\n",
       "Wang, Wenling; Xu, Yanli; Gao, Ruqin; Lu, Roujian; Han, Kai; Wu, Guizhen; Tan, Wenjie                                                                                                                                                                                                                                                                                              1\n",
       "Barry Rockx; Thijs Kuiken; Sander Herfst; Theo Bestebroer; Mart M. Lamers; Dennis de Meulder; Geert van Amerongen; Judith van den Brand; Nisreen M.A. Okba; Debby Schipper; Peter van Run; Lonneke Leijten; Ernst Verschoor; Babs Verstrepen; Jan Langermans; Christian Drosten; Martje Fentener van Vlissingen; Ron Fouchier; Rik de Swart; Marion Koopmans; Bart L. Haagmans     1\n",
       "Name: authors, Length: 3975, dtype: int64"
      ]
     },
     "execution_count": 10,
     "metadata": {},
     "output_type": "execute_result"
    }
   ],
   "source": [
    "df['authors'].value_counts()"
   ]
  },
  {
   "cell_type": "code",
   "execution_count": 11,
   "metadata": {
    "scrolled": true
   },
   "outputs": [
    {
     "data": {
      "text/plain": [
       "The Lancet                                                    106\n",
       "The Lancet Infectious Diseases                                 76\n",
       "New Scientist                                                  68\n",
       "Journal of Medical Virology                                    52\n",
       "Travel Medicine and Infectious Disease                         46\n",
       "Journal of Infection                                           46\n",
       "Nature                                                         42\n",
       "Euro Surveill                                                  36\n",
       "Viruses                                                        33\n",
       "International Journal of Infectious Diseases                   32\n",
       "Journal of Hospital Infection                                  30\n",
       "The Lancet Respiratory Medicine                                29\n",
       "JAMA                                                           28\n",
       "BMJ                                                            28\n",
       "Zhonghua Jie He He Hu Xi Za Zhi                                25\n",
       "Science                                                        24\n",
       "New England Journal of Medicine                                23\n",
       "Radiology                                                      22\n",
       "Emerg Microbes Infect                                          21\n",
       "Journal of Microbiology, Immunology and Infection              21\n",
       "Clinical Infectious Diseases                                   21\n",
       "International Journal of Antimicrobial Agents                  17\n",
       "Journal of Infection and Public Health                         16\n",
       "Emerging and Reemerging Viral Pathogens                        15\n",
       "Chinese Journal of Laboratory Medicine                         15\n",
       "The Lancet Public Health                                       15\n",
       "Journal of the American Academy of Dermatology                 15\n",
       "J Clin Med                                                     15\n",
       "Zhonghua Yu Fang Yi Xue Za Zhi                                 14\n",
       "Int J Environ Res Public Health                                14\n",
       "                                                             ... \n",
       "The Journal of Infection in Developing Countries                1\n",
       "Infezioni in Medicina                                           1\n",
       "Micromachines (Basel)                                           1\n",
       "Maxillofac Plast Reconstr Surg                                  1\n",
       "Early Human Development                                         1\n",
       "European Journal of Pharmaceutical Sciences                     1\n",
       "Medicine (Baltimore)                                            1\n",
       "Data Brief                                                      1\n",
       "Radiology of Infectious Diseases                                1\n",
       "Journal of Environmental Economics and Management               1\n",
       "Chinese Journal of Nuclear Medicine and Molecular Imaging       1\n",
       "Clinical Oral Investigations                                    1\n",
       "Minerva gastroenterologica e dietologica                        1\n",
       "Cytokine & Growth Factor Reviews                                1\n",
       "Molecular Therapy - Methods & Clinical Development              1\n",
       "Current Computer-Aided Drug Design                              1\n",
       "Clinical Nutrition                                              1\n",
       "European journal of physical and rehabilitation medicine        1\n",
       "China Economic Review                                           1\n",
       "American Journal of Respiratory and Critical Care Medicine      1\n",
       "Croat Med J                                                     1\n",
       "BMJ Open Respir Res                                             1\n",
       "The International Journal of Biochemistry & Cell Biology        1\n",
       "Semin Immunopathol                                              1\n",
       "Journal of Allergy and Clinical Immunology                      1\n",
       "ACS Chem Neurosci                                               1\n",
       "Computational and Structural Biotechnology Journal              1\n",
       "Journal of Asia-Pacific Biodiversity                            1\n",
       "ACS Infect Dis                                                  1\n",
       "Journal of Dental Research                                      1\n",
       "Name: journal, Length: 1022, dtype: int64"
      ]
     },
     "execution_count": 11,
     "metadata": {},
     "output_type": "execute_result"
    }
   ],
   "source": [
    "df['journal'].value_counts()"
   ]
  },
  {
   "cell_type": "markdown",
   "metadata": {},
   "source": [
    "# Remaining attributes are roughly analysed for furthur process"
   ]
  },
  {
   "cell_type": "markdown",
   "metadata": {},
   "source": []
  },
  {
   "cell_type": "code",
   "execution_count": 12,
   "metadata": {},
   "outputs": [
    {
     "data": {
      "text/html": [
       "<div>\n",
       "<style scoped>\n",
       "    .dataframe tbody tr th:only-of-type {\n",
       "        vertical-align: middle;\n",
       "    }\n",
       "\n",
       "    .dataframe tbody tr th {\n",
       "        vertical-align: top;\n",
       "    }\n",
       "\n",
       "    .dataframe thead th {\n",
       "        text-align: right;\n",
       "    }\n",
       "</style>\n",
       "<table border=\"1\" class=\"dataframe\">\n",
       "  <thead>\n",
       "    <tr style=\"text-align: right;\">\n",
       "      <th></th>\n",
       "      <th>source_x</th>\n",
       "      <th>title</th>\n",
       "      <th>license</th>\n",
       "      <th>abstract</th>\n",
       "      <th>publish_time</th>\n",
       "      <th>authors</th>\n",
       "      <th>journal</th>\n",
       "    </tr>\n",
       "  </thead>\n",
       "  <tbody>\n",
       "    <tr>\n",
       "      <th>1784</th>\n",
       "      <td>Elsevier</td>\n",
       "      <td>Modifiable Areal Unit Problem</td>\n",
       "      <td>els-covid</td>\n",
       "      <td>Abstract The modifiable areal unit problem, MA...</td>\n",
       "      <td>2020-12-31</td>\n",
       "      <td>Buzzelli, Michael</td>\n",
       "      <td>International Encyclopedia of Human Geography</td>\n",
       "    </tr>\n",
       "    <tr>\n",
       "      <th>1785</th>\n",
       "      <td>Elsevier</td>\n",
       "      <td>Globalization of Communicable Diseases</td>\n",
       "      <td>els-covid</td>\n",
       "      <td>Abstract Fueled by globalization and human beh...</td>\n",
       "      <td>2020-12-31</td>\n",
       "      <td>Oppong, Joseph R.</td>\n",
       "      <td>International Encyclopedia of Human Geography</td>\n",
       "    </tr>\n",
       "    <tr>\n",
       "      <th>1786</th>\n",
       "      <td>Elsevier</td>\n",
       "      <td>Diseases, Emerging and Infectious</td>\n",
       "      <td>els-covid</td>\n",
       "      <td>Abstract Emerging and infectious diseases have...</td>\n",
       "      <td>2020-12-31</td>\n",
       "      <td>Antabe, Roger; Ziegler, Bianca Rosa</td>\n",
       "      <td>International Encyclopedia of Human Geography</td>\n",
       "    </tr>\n",
       "    <tr>\n",
       "      <th>1787</th>\n",
       "      <td>Elsevier</td>\n",
       "      <td>Interdisciplinarity</td>\n",
       "      <td>els-covid</td>\n",
       "      <td>Abstract Interdisciplinarity employs multiple ...</td>\n",
       "      <td>2020-12-31</td>\n",
       "      <td>Raento, Pauliina</td>\n",
       "      <td>International Encyclopedia of Human Geography</td>\n",
       "    </tr>\n",
       "    <tr>\n",
       "      <th>1792</th>\n",
       "      <td>Elsevier</td>\n",
       "      <td>15 An overview of automated room disinfection ...</td>\n",
       "      <td>els-covid</td>\n",
       "      <td>Abstract Conventional disinfection methods are...</td>\n",
       "      <td>2020-12-31</td>\n",
       "      <td>Otter, J.A.; Yezli, S.; Barbut, F.; Perl, T.M.</td>\n",
       "      <td>Decontamination in Hospitals and Healthcare</td>\n",
       "    </tr>\n",
       "    <tr>\n",
       "      <th>1793</th>\n",
       "      <td>Elsevier</td>\n",
       "      <td>Chapter 5 Bay Leaf</td>\n",
       "      <td>els-covid</td>\n",
       "      <td>Abstract Bay leaf (Laurus nobilis) is a perenn...</td>\n",
       "      <td>2020-12-31</td>\n",
       "      <td>Batool, Saima; Khera, Rasheed Ahmad; Hanif, Mu...</td>\n",
       "      <td>Medicinal Plants of South Asia</td>\n",
       "    </tr>\n",
       "    <tr>\n",
       "      <th>2557</th>\n",
       "      <td>Elsevier</td>\n",
       "      <td>Pneumonia</td>\n",
       "      <td>els-covid</td>\n",
       "      <td>Abstract Pneumonia remains the main cause of m...</td>\n",
       "      <td>2020-12-31</td>\n",
       "      <td>Banu, Buyukaydin</td>\n",
       "      <td>Encyclopedia of Biomedical Gerontology</td>\n",
       "    </tr>\n",
       "    <tr>\n",
       "      <th>2560</th>\n",
       "      <td>Elsevier</td>\n",
       "      <td>Liver Disease Associated with Non-Hepatitis Vi...</td>\n",
       "      <td>els-covid</td>\n",
       "      <td>Abstract Hepatitis is commonly associated with...</td>\n",
       "      <td>2020-12-31</td>\n",
       "      <td>Spengler, Ulrich</td>\n",
       "      <td>Encyclopedia of Gastroenterology</td>\n",
       "    </tr>\n",
       "    <tr>\n",
       "      <th>2729</th>\n",
       "      <td>Elsevier</td>\n",
       "      <td>Virus Taxonomy</td>\n",
       "      <td>els-covid</td>\n",
       "      <td>Abstract Virus taxonomy is the classification ...</td>\n",
       "      <td>2020-12-31</td>\n",
       "      <td>Kuhn, Jens H.</td>\n",
       "      <td>Reference Module in Life Sciences</td>\n",
       "    </tr>\n",
       "    <tr>\n",
       "      <th>2730</th>\n",
       "      <td>Elsevier</td>\n",
       "      <td>Antiviral Innate Immunity: Introduction ☆</td>\n",
       "      <td>els-covid</td>\n",
       "      <td>Abstract The concept of “innate immunity” incl...</td>\n",
       "      <td>2020-12-31</td>\n",
       "      <td>Weber, Friedemann</td>\n",
       "      <td>Reference Module in Life Sciences</td>\n",
       "    </tr>\n",
       "    <tr>\n",
       "      <th>2765</th>\n",
       "      <td>Elsevier</td>\n",
       "      <td>Chapter 2 Anatomical Uniqueness of the Mucosal...</td>\n",
       "      <td>els-covid</td>\n",
       "      <td>Abstract Mucosal surfaces lining the lung and ...</td>\n",
       "      <td>2020-12-31</td>\n",
       "      <td>Silva-Sanchez, Aaron; Randall, Troy D.</td>\n",
       "      <td>Mucosal Vaccines</td>\n",
       "    </tr>\n",
       "    <tr>\n",
       "      <th>2766</th>\n",
       "      <td>Elsevier</td>\n",
       "      <td>Chapter 19 Current and New Approaches for Muco...</td>\n",
       "      <td>els-covid</td>\n",
       "      <td>Abstract Mucosal surfaces are the interface be...</td>\n",
       "      <td>2020-12-31</td>\n",
       "      <td>Rhee, Joon Haeng</td>\n",
       "      <td>Mucosal Vaccines</td>\n",
       "    </tr>\n",
       "    <tr>\n",
       "      <th>2767</th>\n",
       "      <td>Elsevier</td>\n",
       "      <td>Chapter 40 The Role of Innate Immunity in Regu...</td>\n",
       "      <td>els-covid</td>\n",
       "      <td>Abstract Rotaviruses (RVs) are important causa...</td>\n",
       "      <td>2020-12-31</td>\n",
       "      <td>Sen, Adrish; Ding, Siyuan; Greenberg, Harry B.</td>\n",
       "      <td>Mucosal Vaccines</td>\n",
       "    </tr>\n",
       "    <tr>\n",
       "      <th>2768</th>\n",
       "      <td>Elsevier</td>\n",
       "      <td>Chapter 46 Harnessing γδ T Cells as Natural Im...</td>\n",
       "      <td>els-covid</td>\n",
       "      <td>Abstract There has been renewed interest in ha...</td>\n",
       "      <td>2020-12-31</td>\n",
       "      <td>Hedges, Jodi F.; Jutila, Mark A.</td>\n",
       "      <td>Mucosal Vaccines</td>\n",
       "    </tr>\n",
       "    <tr>\n",
       "      <th>2769</th>\n",
       "      <td>Elsevier</td>\n",
       "      <td>Chapter 48 Mucosal Vaccine Development for Vet...</td>\n",
       "      <td>els-covid</td>\n",
       "      <td>Abstract Because most pathogens and food antig...</td>\n",
       "      <td>2020-12-31</td>\n",
       "      <td>Wilson, Heather L.; Gerdts, Volker; Babiuk, Lo...</td>\n",
       "      <td>Mucosal Vaccines</td>\n",
       "    </tr>\n",
       "    <tr>\n",
       "      <th>2770</th>\n",
       "      <td>Elsevier</td>\n",
       "      <td>Chapter 5 Advance detection technologies for s...</td>\n",
       "      <td>els-covid</td>\n",
       "      <td>Abstract This chapter provides a comprehensive...</td>\n",
       "      <td>2020-12-31</td>\n",
       "      <td>Parida, M.M.; Dash, Paban Kumar; Shukla, Jyoti</td>\n",
       "      <td>Handbook on Biological Warfare Preparedness</td>\n",
       "    </tr>\n",
       "    <tr>\n",
       "      <th>2771</th>\n",
       "      <td>Elsevier</td>\n",
       "      <td>Chapter 12 Next generation agents (synthetic a...</td>\n",
       "      <td>els-covid</td>\n",
       "      <td>Abstract Biological weapons are highly contagi...</td>\n",
       "      <td>2020-12-31</td>\n",
       "      <td>Sharma, Anshula; Gupta, Gaganjot; Ahmad, Tawse...</td>\n",
       "      <td>Handbook on Biological Warfare Preparedness</td>\n",
       "    </tr>\n",
       "    <tr>\n",
       "      <th>2791</th>\n",
       "      <td>Elsevier</td>\n",
       "      <td>Chapter 83 Artificial intelligence in medical ...</td>\n",
       "      <td>els-covid</td>\n",
       "      <td>Abstract Artificial Intelligence (AI) is a bro...</td>\n",
       "      <td>2020-12-31</td>\n",
       "      <td>Sloane, Elliot B.; J. Silva, Ricardo</td>\n",
       "      <td>Clinical Engineering Handbook</td>\n",
       "    </tr>\n",
       "    <tr>\n",
       "      <th>2798</th>\n",
       "      <td>Elsevier</td>\n",
       "      <td>Chapter 11 Medical Management and Diagnostic A...</td>\n",
       "      <td>els-covid</td>\n",
       "      <td>Abstract This chapter reviews the basic princi...</td>\n",
       "      <td>2020-12-31</td>\n",
       "      <td>Otto, Glen M.; Myles, Matthew H.</td>\n",
       "      <td>The Laboratory Rat</td>\n",
       "    </tr>\n",
       "    <tr>\n",
       "      <th>2799</th>\n",
       "      <td>Elsevier</td>\n",
       "      <td>Chapter 13 Viral Disease</td>\n",
       "      <td>els-covid</td>\n",
       "      <td>Abstract This chapter discusses infections of ...</td>\n",
       "      <td>2020-12-31</td>\n",
       "      <td>Macy, James D.; Compton, Susan R.</td>\n",
       "      <td>The Laboratory Rat</td>\n",
       "    </tr>\n",
       "  </tbody>\n",
       "</table>\n",
       "</div>"
      ],
      "text/plain": [
       "      source_x                                              title    license  \\\n",
       "1784  Elsevier                      Modifiable Areal Unit Problem  els-covid   \n",
       "1785  Elsevier             Globalization of Communicable Diseases  els-covid   \n",
       "1786  Elsevier                  Diseases, Emerging and Infectious  els-covid   \n",
       "1787  Elsevier                                Interdisciplinarity  els-covid   \n",
       "1792  Elsevier  15 An overview of automated room disinfection ...  els-covid   \n",
       "1793  Elsevier                                 Chapter 5 Bay Leaf  els-covid   \n",
       "2557  Elsevier                                          Pneumonia  els-covid   \n",
       "2560  Elsevier  Liver Disease Associated with Non-Hepatitis Vi...  els-covid   \n",
       "2729  Elsevier                                     Virus Taxonomy  els-covid   \n",
       "2730  Elsevier          Antiviral Innate Immunity: Introduction ☆  els-covid   \n",
       "2765  Elsevier  Chapter 2 Anatomical Uniqueness of the Mucosal...  els-covid   \n",
       "2766  Elsevier  Chapter 19 Current and New Approaches for Muco...  els-covid   \n",
       "2767  Elsevier  Chapter 40 The Role of Innate Immunity in Regu...  els-covid   \n",
       "2768  Elsevier  Chapter 46 Harnessing γδ T Cells as Natural Im...  els-covid   \n",
       "2769  Elsevier  Chapter 48 Mucosal Vaccine Development for Vet...  els-covid   \n",
       "2770  Elsevier  Chapter 5 Advance detection technologies for s...  els-covid   \n",
       "2771  Elsevier  Chapter 12 Next generation agents (synthetic a...  els-covid   \n",
       "2791  Elsevier  Chapter 83 Artificial intelligence in medical ...  els-covid   \n",
       "2798  Elsevier  Chapter 11 Medical Management and Diagnostic A...  els-covid   \n",
       "2799  Elsevier                           Chapter 13 Viral Disease  els-covid   \n",
       "\n",
       "                                               abstract publish_time  \\\n",
       "1784  Abstract The modifiable areal unit problem, MA...   2020-12-31   \n",
       "1785  Abstract Fueled by globalization and human beh...   2020-12-31   \n",
       "1786  Abstract Emerging and infectious diseases have...   2020-12-31   \n",
       "1787  Abstract Interdisciplinarity employs multiple ...   2020-12-31   \n",
       "1792  Abstract Conventional disinfection methods are...   2020-12-31   \n",
       "1793  Abstract Bay leaf (Laurus nobilis) is a perenn...   2020-12-31   \n",
       "2557  Abstract Pneumonia remains the main cause of m...   2020-12-31   \n",
       "2560  Abstract Hepatitis is commonly associated with...   2020-12-31   \n",
       "2729  Abstract Virus taxonomy is the classification ...   2020-12-31   \n",
       "2730  Abstract The concept of “innate immunity” incl...   2020-12-31   \n",
       "2765  Abstract Mucosal surfaces lining the lung and ...   2020-12-31   \n",
       "2766  Abstract Mucosal surfaces are the interface be...   2020-12-31   \n",
       "2767  Abstract Rotaviruses (RVs) are important causa...   2020-12-31   \n",
       "2768  Abstract There has been renewed interest in ha...   2020-12-31   \n",
       "2769  Abstract Because most pathogens and food antig...   2020-12-31   \n",
       "2770  Abstract This chapter provides a comprehensive...   2020-12-31   \n",
       "2771  Abstract Biological weapons are highly contagi...   2020-12-31   \n",
       "2791  Abstract Artificial Intelligence (AI) is a bro...   2020-12-31   \n",
       "2798  Abstract This chapter reviews the basic princi...   2020-12-31   \n",
       "2799  Abstract This chapter discusses infections of ...   2020-12-31   \n",
       "\n",
       "                                                authors  \\\n",
       "1784                                  Buzzelli, Michael   \n",
       "1785                                  Oppong, Joseph R.   \n",
       "1786                Antabe, Roger; Ziegler, Bianca Rosa   \n",
       "1787                                   Raento, Pauliina   \n",
       "1792     Otter, J.A.; Yezli, S.; Barbut, F.; Perl, T.M.   \n",
       "1793  Batool, Saima; Khera, Rasheed Ahmad; Hanif, Mu...   \n",
       "2557                                   Banu, Buyukaydin   \n",
       "2560                                   Spengler, Ulrich   \n",
       "2729                                      Kuhn, Jens H.   \n",
       "2730                                  Weber, Friedemann   \n",
       "2765             Silva-Sanchez, Aaron; Randall, Troy D.   \n",
       "2766                                   Rhee, Joon Haeng   \n",
       "2767     Sen, Adrish; Ding, Siyuan; Greenberg, Harry B.   \n",
       "2768                   Hedges, Jodi F.; Jutila, Mark A.   \n",
       "2769  Wilson, Heather L.; Gerdts, Volker; Babiuk, Lo...   \n",
       "2770     Parida, M.M.; Dash, Paban Kumar; Shukla, Jyoti   \n",
       "2771  Sharma, Anshula; Gupta, Gaganjot; Ahmad, Tawse...   \n",
       "2791               Sloane, Elliot B.; J. Silva, Ricardo   \n",
       "2798                   Otto, Glen M.; Myles, Matthew H.   \n",
       "2799                  Macy, James D.; Compton, Susan R.   \n",
       "\n",
       "                                            journal  \n",
       "1784  International Encyclopedia of Human Geography  \n",
       "1785  International Encyclopedia of Human Geography  \n",
       "1786  International Encyclopedia of Human Geography  \n",
       "1787  International Encyclopedia of Human Geography  \n",
       "1792    Decontamination in Hospitals and Healthcare  \n",
       "1793                 Medicinal Plants of South Asia  \n",
       "2557         Encyclopedia of Biomedical Gerontology  \n",
       "2560               Encyclopedia of Gastroenterology  \n",
       "2729              Reference Module in Life Sciences  \n",
       "2730              Reference Module in Life Sciences  \n",
       "2765                               Mucosal Vaccines  \n",
       "2766                               Mucosal Vaccines  \n",
       "2767                               Mucosal Vaccines  \n",
       "2768                               Mucosal Vaccines  \n",
       "2769                               Mucosal Vaccines  \n",
       "2770    Handbook on Biological Warfare Preparedness  \n",
       "2771    Handbook on Biological Warfare Preparedness  \n",
       "2791                  Clinical Engineering Handbook  \n",
       "2798                             The Laboratory Rat  \n",
       "2799                             The Laboratory Rat  "
      ]
     },
     "execution_count": 12,
     "metadata": {},
     "output_type": "execute_result"
    }
   ],
   "source": [
    "df.head(20)"
   ]
  },
  {
   "cell_type": "code",
   "execution_count": 13,
   "metadata": {},
   "outputs": [
    {
     "data": {
      "text/plain": [
       "(4324, 7)"
      ]
     },
     "execution_count": 13,
     "metadata": {},
     "output_type": "execute_result"
    }
   ],
   "source": [
    "df.shape"
   ]
  },
  {
   "cell_type": "markdown",
   "metadata": {},
   "source": [
    "# Natural Language Processing"
   ]
  },
  {
   "cell_type": "code",
   "execution_count": 14,
   "metadata": {},
   "outputs": [],
   "source": [
    "import nltk"
   ]
  },
  {
   "cell_type": "code",
   "execution_count": 15,
   "metadata": {},
   "outputs": [],
   "source": [
    "#nltk.download()"
   ]
  },
  {
   "cell_type": "code",
   "execution_count": 16,
   "metadata": {},
   "outputs": [
    {
     "name": "stdout",
     "output_type": "stream",
     "text": [
      "28182\n"
     ]
    }
   ],
   "source": [
    "pr_nouns=()\n",
    "for i, row in df.iterrows():\n",
    "    #print(df.loc[i,'abstract'])\n",
    "    sentences=(nltk.tokenize.sent_tokenize(df.loc[i,'title']))\n",
    "    for sent in sentences:\n",
    "        words=nltk.word_tokenize(sent)\n",
    "        pOfS=nltk.pos_tag(words)\n",
    "        for p in pOfS:\n",
    "            if (p[1]==\"NN\" or p[1]==\"NNP\" or p[1]==\"NNS\" or p[1]==\"NNPS\"): pr_nouns+=(p[0],)\n",
    "print(len(pr_nouns))"
   ]
  },
  {
   "cell_type": "code",
   "execution_count": 17,
   "metadata": {},
   "outputs": [
    {
     "name": "stdout",
     "output_type": "stream",
     "text": [
      "('covid-19', 1375)\n",
      "('coronavirus', 1313)\n",
      "('china', 468)\n",
      "('disease', 465)\n",
      "('patients', 374)\n",
      "('sars-cov-2', 360)\n",
      "('outbreak', 360)\n",
      "('novel', 351)\n",
      "('infection', 347)\n",
      "('pneumonia', 325)\n",
      "('virus', 246)\n",
      "('health', 214)\n",
      "('analysis', 208)\n",
      "('wuhan', 199)\n",
      "('respiratory', 173)\n",
      "('transmission', 170)\n",
      "('cases', 167)\n",
      "('study', 166)\n",
      "('epidemic', 150)\n",
      "('control', 136)\n",
      "('characteristics', 133)\n",
      "('treatment', 130)\n",
      "('case', 116)\n",
      "('pandemic', 115)\n",
      "('infections', 107)\n",
      "('prevention', 104)\n",
      "('detection', 102)\n",
      "('management', 101)\n",
      "('risk', 95)\n",
      "('response', 94)\n",
      "('diagnosis', 91)\n",
      "('model', 89)\n",
      "('review', 88)\n",
      "('syndrome', 88)\n",
      "('care', 87)\n",
      "('features', 83)\n",
      "('ct', 78)\n",
      "('impact', 77)\n",
      "('chapter', 76)\n",
      "('emergency', 74)\n",
      "('protein', 72)\n",
      "('diseases', 71)\n",
      "('data', 71)\n",
      "('strategies', 68)\n",
      "('children', 67)\n",
      "('spread', 65)\n",
      "('rna', 62)\n",
      "('system', 61)\n",
      "('’', 60)\n",
      "('hospital', 59)\n"
     ]
    }
   ],
   "source": [
    "w_freq = nltk.FreqDist(w.lower() for w in pr_nouns)\n",
    "most_occur=(w_freq.most_common(50))\n",
    "for i in most_occur: print(i)"
   ]
  },
  {
   "cell_type": "code",
   "execution_count": 31,
   "metadata": {},
   "outputs": [
    {
     "name": "stdout",
     "output_type": "stream",
     "text": [
      "28185\n"
     ]
    }
   ],
   "source": [
    "import nltk\n",
    "from nltk.tokenize import PunktSentenceTokenizer\n",
    "\n",
    "custom_sent_tokenizer = PunktSentenceTokenizer(train_data)\n",
    "\n",
    "pr_nouns2=()\n",
    "for i, row in df.iterrows():\n",
    "    tokenized = custom_sent_tokenizer.tokenize(df.loc[i,'title'])\n",
    "    try:\n",
    "        for i in tokenized[:5]:\n",
    "            words = nltk.word_tokenize(i)\n",
    "            tagged = nltk.pos_tag(words)\n",
    "            for p in tagged:\n",
    "                if (p[1]==\"NN\" or p[1]==\"NNP\" or p[1]==\"NNS\" or p[1]==\"NNPS\"): pr_nouns2+=(p[0],)\n",
    "            #print(tagged)\n",
    "    except Exception as e:\n",
    "        print(str(e))\n",
    "    #process_content()\n",
    "print(len(pr_nouns2))\n"
   ]
  },
  {
   "cell_type": "code",
   "execution_count": 19,
   "metadata": {},
   "outputs": [
    {
     "name": "stdout",
     "output_type": "stream",
     "text": [
      "<class 'str'>\n"
     ]
    }
   ],
   "source": [
    "print(type(train_text))"
   ]
  },
  {
   "cell_type": "code",
   "execution_count": 20,
   "metadata": {},
   "outputs": [
    {
     "name": "stdout",
     "output_type": "stream",
     "text": [
      "('covid-19', 1375)\n",
      "('coronavirus', 1313)\n",
      "('china', 468)\n",
      "('disease', 465)\n",
      "('patients', 374)\n",
      "('sars-cov-2', 360)\n",
      "('outbreak', 360)\n",
      "('novel', 351)\n",
      "('infection', 347)\n",
      "('pneumonia', 325)\n",
      "('virus', 246)\n",
      "('health', 214)\n",
      "('analysis', 208)\n",
      "('wuhan', 199)\n",
      "('respiratory', 173)\n",
      "('transmission', 170)\n",
      "('cases', 167)\n",
      "('study', 166)\n",
      "('epidemic', 150)\n",
      "('control', 136)\n",
      "('characteristics', 133)\n",
      "('treatment', 130)\n",
      "('case', 116)\n",
      "('pandemic', 115)\n",
      "('infections', 107)\n",
      "('prevention', 104)\n",
      "('detection', 102)\n",
      "('management', 101)\n",
      "('risk', 95)\n",
      "('response', 94)\n",
      "('diagnosis', 91)\n",
      "('model', 89)\n",
      "('review', 88)\n",
      "('syndrome', 88)\n",
      "('care', 87)\n",
      "('features', 83)\n",
      "('ct', 78)\n",
      "('impact', 77)\n",
      "('chapter', 76)\n",
      "('emergency', 74)\n",
      "('protein', 72)\n",
      "('diseases', 71)\n",
      "('data', 71)\n",
      "('strategies', 68)\n",
      "('children', 67)\n",
      "('spread', 65)\n",
      "('rna', 62)\n",
      "('system', 61)\n",
      "('’', 60)\n",
      "('hospital', 59)\n"
     ]
    }
   ],
   "source": [
    "w_freq = nltk.FreqDist(w.lower() for w in pr_nouns2)\n",
    "most_occur=(w_freq.most_common(50))\n",
    "for i in most_occur: print(i)"
   ]
  },
  {
   "cell_type": "markdown",
   "metadata": {},
   "source": [
    "# Named Entity Recongnization"
   ]
  },
  {
   "cell_type": "code",
   "execution_count": 21,
   "metadata": {},
   "outputs": [
    {
     "name": "stdout",
     "output_type": "stream",
     "text": [
      "(S\n",
      "  The/DT\n",
      "  psychiatric/JJ\n",
      "  impact/NN\n",
      "  of/IN\n",
      "  the/DT\n",
      "  novel/JJ\n",
      "  coronavirus/NN\n",
      "  outbreak/NN)\n"
     ]
    }
   ],
   "source": [
    "import IPython\n",
    "named_entity=nltk.ne_chunk(tagged,binary=True)\n",
    "print(named_entity)\n",
    "#named_entity.draw()"
   ]
  },
  {
   "cell_type": "markdown",
   "metadata": {},
   "source": [
    "## Final DATAFRAME"
   ]
  },
  {
   "cell_type": "code",
   "execution_count": 22,
   "metadata": {},
   "outputs": [
    {
     "name": "stdout",
     "output_type": "stream",
     "text": [
      "Empty DataFrame\n",
      "Columns: [Pneumonia, Fever, Cough, Respiratory problem, Covid-19]\n",
      "Index: []\n"
     ]
    }
   ],
   "source": [
    "import pandas as p\n",
    "final=p.DataFrame(columns=['Pneumonia','Fever','Cough','Respiratory problem','Covid-19'])\n",
    "print(final)"
   ]
  },
  {
   "cell_type": "markdown",
   "metadata": {},
   "source": [
    "## Lemmatizing"
   ]
  },
  {
   "cell_type": "code",
   "execution_count": 23,
   "metadata": {},
   "outputs": [
    {
     "name": "stdout",
     "output_type": "stream",
     "text": [
      "137744\n",
      "COVID-19        3106\n",
      "coronavirus     2207\n",
      "case            2147\n",
      "patient         2114\n",
      "disease         1845\n",
      "China           1799\n",
      "infection       1693\n",
      "virus           1517\n",
      "outbreak        1261\n",
      "%               1209\n",
      "SARS-CoV-2      1164\n",
      "Wuhan           1130\n",
      "wa              1068\n",
      "study           1045\n",
      "ha               915\n",
      "health           908\n",
      "data             864\n",
      "respiratory      755\n",
      "pneumonia        750\n",
      "number           741\n",
      "transmission     729\n",
      "model            680\n",
      "cell             631\n",
      "treatment        629\n",
      "country          618\n",
      "Methods          539\n",
      "January          529\n",
      "control          523\n",
      "February         495\n",
      "spread           489\n",
      "                ... \n",
      "concern          175\n",
      "review           175\n",
      "acid             172\n",
      "child            172\n",
      "Province         170\n",
      "mechanism        170\n",
      "structure        167\n",
      "cancer           163\n",
      "incidence        163\n",
      "community        161\n",
      "worldwide        161\n",
      "Objective        159\n",
      "need             157\n",
      "family           156\n",
      "target           155\n",
      "area             155\n",
      "function         154\n",
      "cluster          152\n",
      "World            152\n",
      "WHO              152\n",
      "agent            151\n",
      "cause            151\n",
      "history          150\n",
      "isolation        149\n",
      "Novel            148\n",
      "growth           147\n",
      "”                147\n",
      "staff            146\n",
      "threat           145\n",
      "replication      145\n",
      "Length: 150, dtype: int64\n"
     ]
    }
   ],
   "source": [
    "import pandas as p\n",
    "from nltk.stem import WordNetLemmatizer\n",
    "lemmatizer=WordNetLemmatizer()\n",
    "all_nouns=[]\n",
    "for k, row in df.iterrows():\n",
    "    if(isinstance((df.loc[k,'abstract']),str)):\n",
    "        tokenized = custom_sent_tokenizer.tokenize(df.loc[k,'abstract'])\n",
    "        for j in tokenized[:5]:\n",
    "            words = nltk.word_tokenize(j)\n",
    "            lwords=[]\n",
    "            for word in words:\n",
    "                lword=lemmatizer.lemmatize(word)\n",
    "                lwords.append(lword)\n",
    "            pos=nltk.pos_tag(lwords)\n",
    "            for i in pos:\n",
    "                if (i[1]==\"NN\" or i[1]==\"NNP\" or i[1]==\"NNS\" or i[1]==\"NNPS\"):\n",
    "                    all_nouns.append(i[0])\n",
    "                    if(i[0].lower()=='pneumonia'): final.loc[k,'Pneumonia']=True\n",
    "                    else: final.loc[k,'Pneumonia']=False\n",
    "                    if(i[0].lower()=='fever'): final.loc[k,'Fever']=True\n",
    "                    else: final.loc[k,'Fever']=False\n",
    "                    if(i[0].lower()=='cough'): final.loc[k,'Cough']=True\n",
    "                    else: final.loc[k,'Cough']=False\n",
    "                    if(i[0].lower()=='respiratory'): final.loc[k,'Respiratory problem']=True\n",
    "                    else: final.loc[k,'Respiratory problem']=False\n",
    "                    if(i[0].lower()=='covid-19' or i[0].lower()=='coronavirus' or i[0].lower()=='sars-cov-2'): final.loc[k,'Covid-19']=True\n",
    "                    else: final.loc[k,'Covid-19']=False                    \n",
    "    else:\n",
    "        tokenized = custom_sent_tokenizer.tokenize(df.loc[k,'title'])\n",
    "        for j in tokenized[:5]:\n",
    "            words = nltk.word_tokenize(j)\n",
    "            lwords=[]\n",
    "            for word in words:\n",
    "                lword=lemmatizer.lemmatize(word)\n",
    "                lwords.append(lword)\n",
    "            pos=nltk.pos_tag(lwords)\n",
    "            for i in pos:\n",
    "                if (i[1]==\"NN\" or i[1]==\"NNP\" or i[1]==\"NNS\" or i[1]==\"NNPS\"):\n",
    "                    all_nouns.append(i[0])\n",
    "                    if(i[0].lower()=='pneumonia'): final.loc[k,'Pneumonia']=True\n",
    "                    else: final.loc[k,'Pneumonia']=False\n",
    "                    if(i[0].lower()=='fever'): final.loc[k,'Fever']=True\n",
    "                    else: final.loc[k,'Fever']=False\n",
    "                    if(i[0].lower()=='cough'): final.loc[k,'Cough']=True\n",
    "                    else: final.loc[k,'Cough']=False\n",
    "                    if(i[0].lower()=='respiratory'): final.loc[k,'Respiratory problem']=True\n",
    "                    else: final.loc[k,'Respiratory problem']=False\n",
    "                    if(i[0].lower()=='covid-19' or i[0].lower()=='coronavirus' or i[0].lower()=='sars-cov-2'): final.loc[k,'Covid-19']=True\n",
    "                    else: final.loc[k,'Covid-19']=False\n",
    "                        \n",
    "print(len(all_nouns))                \n",
    "all_n=p.Series(all_nouns)\n",
    "most_occured_nouns=all_n.value_counts()\n",
    "print(most_occured_nouns.head(150))"
   ]
  },
  {
   "cell_type": "code",
   "execution_count": 24,
   "metadata": {},
   "outputs": [
    {
     "name": "stdout",
     "output_type": "stream",
     "text": [
      "      Pneumonia  Fever  Cough  Respiratory problem  Covid-19\n",
      "1784      False  False  False                False     False\n",
      "1785      False  False  False                False     False\n",
      "1786      False  False  False                False     False\n",
      "1787      False  False  False                False     False\n",
      "1792      False  False  False                False     False\n"
     ]
    }
   ],
   "source": [
    "print(final.head(5))"
   ]
  },
  {
   "cell_type": "code",
   "execution_count": 25,
   "metadata": {},
   "outputs": [
    {
     "name": "stdout",
     "output_type": "stream",
     "text": [
      "False    4076\n",
      "True      243\n",
      "Name: Covid-19, dtype: int64\n"
     ]
    },
    {
     "data": {
      "text/plain": [
       "<matplotlib.axes._subplots.AxesSubplot at 0x1edf79dc0b8>"
      ]
     },
     "execution_count": 25,
     "metadata": {},
     "output_type": "execute_result"
    },
    {
     "data": {
      "image/png": "[encoded data removed]",
      "text/plain": [
       "<Figure size 432x288 with 1 Axes>"
      ]
     },
     "metadata": {
      "needs_background": "light"
     },
     "output_type": "display_data"
    }
   ],
   "source": [
    "import seaborn as sb\n",
    "print(final['Covid-19'].value_counts())\n",
    "sb.countplot(final['Covid-19'])"
   ]
  },
  {
   "cell_type": "code",
   "execution_count": 26,
   "metadata": {
    "scrolled": true
   },
   "outputs": [
    {
     "name": "stdout",
     "output_type": "stream",
     "text": [
      "False    4318\n",
      "True        1\n",
      "Name: Fever, dtype: int64\n"
     ]
    },
    {
     "data": {
      "text/plain": [
       "<matplotlib.axes._subplots.AxesSubplot at 0x1edf9a889e8>"
      ]
     },
     "execution_count": 26,
     "metadata": {},
     "output_type": "execute_result"
    },
    {
     "data": {
      "image/png": "[encoded data removed]",
      "text/plain": [
       "<Figure size 432x288 with 1 Axes>"
      ]
     },
     "metadata": {
      "needs_background": "light"
     },
     "output_type": "display_data"
    }
   ],
   "source": [
    "print(final['Fever'].value_counts())\n",
    "sb.countplot(final['Fever'])"
   ]
  },
  {
   "cell_type": "code",
   "execution_count": 27,
   "metadata": {},
   "outputs": [
    {
     "name": "stdout",
     "output_type": "stream",
     "text": [
      "False    4272\n",
      "True       47\n",
      "Name: Pneumonia, dtype: int64\n"
     ]
    },
    {
     "data": {
      "text/plain": [
       "<matplotlib.axes._subplots.AxesSubplot at 0x1edf9ac1518>"
      ]
     },
     "execution_count": 27,
     "metadata": {},
     "output_type": "execute_result"
    },
    {
     "data": {
      "image/png": "[encoded data removed]",
      "text/plain": [
       "<Figure size 432x288 with 1 Axes>"
      ]
     },
     "metadata": {
      "needs_background": "light"
     },
     "output_type": "display_data"
    }
   ],
   "source": [
    "print(final['Pneumonia'].value_counts())\n",
    "sb.countplot(final['Pneumonia'])"
   ]
  },
  {
   "cell_type": "code",
   "execution_count": 28,
   "metadata": {},
   "outputs": [
    {
     "name": "stdout",
     "output_type": "stream",
     "text": [
      "False    4318\n",
      "True        1\n",
      "Name: Cough, dtype: int64\n"
     ]
    },
    {
     "data": {
      "text/plain": [
       "<matplotlib.axes._subplots.AxesSubplot at 0x1edf9b06860>"
      ]
     },
     "execution_count": 28,
     "metadata": {},
     "output_type": "execute_result"
    },
    {
     "data": {
      "image/png": "[encoded data removed]",
      "text/plain": [
       "<Figure size 432x288 with 1 Axes>"
      ]
     },
     "metadata": {
      "needs_background": "light"
     },
     "output_type": "display_data"
    }
   ],
   "source": [
    "print(final['Cough'].value_counts())\n",
    "sb.countplot(final['Cough'])"
   ]
  },
  {
   "cell_type": "code",
   "execution_count": 30,
   "metadata": {},
   "outputs": [
    {
     "name": "stdout",
     "output_type": "stream",
     "text": [
      "False    4319\n",
      "Name: Respiratory problem, dtype: int64\n"
     ]
    },
    {
     "data": {
      "text/plain": [
       "<matplotlib.axes._subplots.AxesSubplot at 0x1edf9b6e5f8>"
      ]
     },
     "execution_count": 30,
     "metadata": {},
     "output_type": "execute_result"
    },
    {
     "data": {
      "image/png": "[encoded data removed]",
      "text/plain": [
       "<Figure size 432x288 with 1 Axes>"
      ]
     },
     "metadata": {
      "needs_background": "light"
     },
     "output_type": "display_data"
    }
   ],
   "source": [
    "print(final['Respiratory problem'].value_counts())\n",
    "sb.countplot(final['Respiratory problem'])"
   ]
  }
 ],
 "metadata": {
  "kernelspec": {
   "display_name": "Python 3",
   "language": "python",
   "name": "python3"
  },
  "language_info": {
   "codemirror_mode": {
    "name": "ipython",
    "version": 3
   },
   "file_extension": ".py",
   "mimetype": "text/x-python",
   "name": "python",
   "nbconvert_exporter": "python",
   "pygments_lexer": "ipython3",
   "version": "3.7.3"
  }
 },
 "nbformat": 4,
 "nbformat_minor": 4
}
