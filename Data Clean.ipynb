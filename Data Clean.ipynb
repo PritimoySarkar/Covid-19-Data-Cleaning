{
 "cells": [
  {
   "cell_type": "code",
   "execution_count": 1,
   "metadata": {},
   "outputs": [],
   "source": [
    "import pandas as p\n",
    "import seaborn as sb"
   ]
  },
  {
   "cell_type": "code",
   "execution_count": 2,
   "metadata": {},
   "outputs": [
    {
     "name": "stderr",
     "output_type": "stream",
     "text": [
      "C:\\Users\\User\\Anaconda3\\lib\\site-packages\\IPython\\core\\interactiveshell.py:3049: DtypeWarning: Columns (13) have mixed types. Specify dtype option on import or set low_memory=False.\n",
      "  interactivity=interactivity, compiler=compiler, result=result)\n"
     ]
    }
   ],
   "source": [
    "df=p.read_csv('metadata.csv')"
   ]
  },
  {
   "cell_type": "markdown",
   "metadata": {},
   "source": [
    "# Remove redundent rows"
   ]
  },
  {
   "cell_type": "code",
   "execution_count": 3,
   "metadata": {},
   "outputs": [],
   "source": [
    "df=df.drop(['sha'],axis=1)\n",
    "df=df.drop(['pmcid'],axis=1)\n",
    "df=df.drop(['pubmed_id'],axis=1)\n",
    "df=df.drop(['Microsoft Academic Paper ID'],axis=1)\n",
    "df=df.drop(['WHO #Covidence'],axis=1)\n",
    "df=df.drop(['has_pdf_parse'],axis=1)\n",
    "df=df.drop(['full_text_file'],axis=1)\n",
    "df=df.drop(['cord_uid'],axis=1)\n",
    "df=df.drop(['has_pmc_xml_parse'],axis=1)\n",
    "df=df.drop(['url'],axis=1)\n",
    "df=df.drop(['doi'],axis=1)"
   ]
  },
  {
   "cell_type": "markdown",
   "metadata": {},
   "source": [
    "# Remove NaN values"
   ]
  },
  {
   "cell_type": "code",
   "execution_count": 4,
   "metadata": {},
   "outputs": [],
   "source": [
    "df=df[df['title'].notna()]"
   ]
  },
  {
   "cell_type": "markdown",
   "metadata": {},
   "source": [
    "# separate training data for punktsentencetokenizer"
   ]
  },
  {
   "cell_type": "code",
   "execution_count": 5,
   "metadata": {},
   "outputs": [
    {
     "name": "stdout",
     "output_type": "stream",
     "text": [
      "(4324, 7)\n"
     ]
    }
   ],
   "source": [
    "df=df[df['title'].notna()]\n",
    "train_data=\"\"\n",
    "df=df[df['publish_time'].notna()]\n",
    "for i, row in df.iterrows():\n",
    "    if (int(df.loc[i,'publish_time'][:4])<2020):\n",
    "        train_data+=df.loc[i,'title']\n",
    "        df.drop([i], axis = 0, inplace = True)\n",
    "    #else:\n",
    "        #train_data+=\" \"\n",
    "        #train_data+=df.loc[i,'title']\n",
    "print(df.shape)"
   ]
  },
  {
   "cell_type": "markdown",
   "metadata": {},
   "source": [
    "# create dataframe for final result"
   ]
  },
  {
   "cell_type": "code",
   "execution_count": 6,
   "metadata": {},
   "outputs": [
    {
     "name": "stdout",
     "output_type": "stream",
     "text": [
      "Empty DataFrame\n",
      "Columns: [Pneumonia, Fever, Cough, Respiratory problem, Diabetes, Covid-19]\n",
      "Index: []\n"
     ]
    }
   ],
   "source": [
    "import pandas as p\n",
    "final=p.DataFrame(columns=['Pneumonia','Fever','Cough','Respiratory problem','Diabetes','Covid-19'])\n",
    "print(final)"
   ]
  },
  {
   "cell_type": "markdown",
   "metadata": {},
   "source": [
    "# inserting data into the final clean dataframe"
   ]
  },
  {
   "cell_type": "code",
   "execution_count": 7,
   "metadata": {},
   "outputs": [
    {
     "name": "stdout",
     "output_type": "stream",
     "text": [
      "242372\n"
     ]
    }
   ],
   "source": [
    "import nltk\n",
    "from nltk.tokenize import PunktSentenceTokenizer\n",
    "import pandas as p\n",
    "from nltk.stem import WordNetLemmatizer\n",
    "\n",
    "custom_sent_tokenizer = PunktSentenceTokenizer(train_data)\n",
    "lemmatizer=WordNetLemmatizer()\n",
    "all_nouns=[]\n",
    "for k, row in df.iterrows():\n",
    "    flp=0;flf=0;flc=0;flr=0;flC=0;fld=0\n",
    "    if(isinstance((df.loc[k,'abstract']),str)):\n",
    "        tokenized = custom_sent_tokenizer.tokenize(df.loc[k,'abstract'])\n",
    "        for j in tokenized:\n",
    "            words = nltk.word_tokenize(j)\n",
    "            lwords=[]\n",
    "            for word in words:\n",
    "                lword=lemmatizer.lemmatize(word)\n",
    "                lwords.append(lword)\n",
    "            pos=nltk.pos_tag(lwords)\n",
    "            for i in pos:\n",
    "                if (i[1]==\"NN\" or i[1]==\"NNP\" or i[1]==\"NNS\" or i[1]==\"NNPS\"):\n",
    "                    all_nouns.append(i[0].lower())\n",
    "                    if(i[0].lower()=='pneumonia'):\n",
    "                        final.loc[k,'Pneumonia']=True\n",
    "                        flp=1\n",
    "                        continue\n",
    "                    else:\n",
    "                        if(flp==0):\n",
    "                            final.loc[k,'Pneumonia']=False\n",
    "                    if(i[0].lower()=='diabetes'):\n",
    "                        final.loc[k,'Diabetes']=True\n",
    "                        fld=1\n",
    "                        continue\n",
    "                    else:\n",
    "                        if(fld==0):\n",
    "                            final.loc[k,'Diabetes']=False\n",
    "                    if(i[0].lower()=='fever'):\n",
    "                        final.loc[k,'Fever']=True\n",
    "                        flf=1\n",
    "                        continue\n",
    "                    else:\n",
    "                        if(flf==0):\n",
    "                            final.loc[k,'Fever']=False\n",
    "                    if(i[0].lower()=='cough'):\n",
    "                        final.loc[k,'Cough']=True\n",
    "                        flc=1\n",
    "                        continue\n",
    "                    else:\n",
    "                        if(flc==0):\n",
    "                            final.loc[k,'Cough']=False\n",
    "                    if(i[0].lower()=='respiratory'):\n",
    "                        final.loc[k,'Respiratory problem']=True\n",
    "                        flr=1\n",
    "                        continue\n",
    "                    else:\n",
    "                        if(flr==0):\n",
    "                            final.loc[k,'Respiratory problem']=False\n",
    "                    if(i[0].lower()=='covid-19' or i[0].lower()=='coronavirus' or i[0].lower()=='sars-cov-2'):\n",
    "                        final.loc[k,'Covid-19']=True\n",
    "                        flC=1\n",
    "                        continue\n",
    "                    else:\n",
    "                        if(flC==0):\n",
    "                            final.loc[k,'Covid-19']=False                    \n",
    "    else:\n",
    "        tokenized = custom_sent_tokenizer.tokenize(df.loc[k,'title'])\n",
    "        for j in tokenized:\n",
    "            words = nltk.word_tokenize(j)\n",
    "            lwords=[]\n",
    "            for word in words:\n",
    "                lword=lemmatizer.lemmatize(word)\n",
    "                lwords.append(lword)\n",
    "            pos=nltk.pos_tag(lwords)\n",
    "            for i in pos:\n",
    "                if (i[1]==\"NN\" or i[1]==\"NNP\" or i[1]==\"NNS\" or i[1]==\"NNPS\"):\n",
    "                    all_nouns.append(i[0].lower())\n",
    "                    if(i[0].lower()=='pneumonia'):\n",
    "                        final.loc[k,'Pneumonia']=True\n",
    "                        flp=1\n",
    "                        continue\n",
    "                    else:\n",
    "                        if(flp==0):\n",
    "                            final.loc[k,'Pneumonia']=False\n",
    "                    if(i[0].lower()=='diabetes'):\n",
    "                        final.loc[k,'Diabetes']=True\n",
    "                        fld=1\n",
    "                        continue\n",
    "                    else:\n",
    "                        if(fld==0):\n",
    "                            final.loc[k,'Diabetes']=False\n",
    "                    if(i[0].lower()=='fever'):\n",
    "                        final.loc[k,'Fever']=True\n",
    "                        flf=1\n",
    "                        continue\n",
    "                    else:\n",
    "                        if(flf==0):\n",
    "                            final.loc[k,'Fever']=False\n",
    "                    if(i[0].lower()=='cough'):\n",
    "                        final.loc[k,'Cough']=True\n",
    "                        flc=1\n",
    "                        continue\n",
    "                    else:\n",
    "                        if(flc==0):\n",
    "                            final.loc[k,'Cough']=False\n",
    "                    if(i[0].lower()=='respiratory'):\n",
    "                        final.loc[k,'Respiratory problem']=True\n",
    "                        flr=1\n",
    "                        continue\n",
    "                    else:\n",
    "                        if(flr==0):\n",
    "                            final.loc[k,'Respiratory problem']=False\n",
    "                    if(i[0].lower()=='covid-19' or i[0].lower()=='coronavirus' or i[0].lower()=='sars-cov-2'):\n",
    "                        final.loc[k,'Covid-19']=True\n",
    "                        flC=1\n",
    "                        continue\n",
    "                    else:\n",
    "                        if(flC==0):\n",
    "                            final.loc[k,'Covid-19']=False\n",
    "                        \n",
    "print(len(all_nouns))                \n",
    "all_n=p.Series(all_nouns)\n",
    "most_occured_nouns=all_n.value_counts()"
   ]
  },
  {
   "cell_type": "code",
   "execution_count": 8,
   "metadata": {},
   "outputs": [
    {
     "name": "stdout",
     "output_type": "stream",
     "text": [
      "%                5199\n",
      "covid-19         4706\n",
      "patient          4523\n",
      "case             3900\n",
      "disease          2924\n",
      "coronavirus      2909\n",
      "infection        2844\n",
      "virus            2360\n",
      "wa               2336\n",
      "china            2259\n",
      "sars-cov-2       1739\n",
      "health           1735\n",
      "study            1714\n",
      "outbreak         1709\n",
      "data             1457\n",
      "wuhan            1456\n",
      "number           1326\n",
      "model            1213\n",
      "respiratory      1174\n",
      "transmission     1168\n",
      "treatment        1162\n",
      "ha               1154\n",
      "cell             1134\n",
      "pneumonia        1096\n",
      "day              1051\n",
      "control           997\n",
      "risk              996\n",
      "time              989\n",
      "rate              941\n",
      "group             931\n",
      "                 ... \n",
      "room               87\n",
      "questionnaire      87\n",
      "liver              86\n",
      "amino              86\n",
      "estimation         86\n",
      "prognosis          85\n",
      "technique          85\n",
      "imaging            85\n",
      "+                  84\n",
      "society            84\n",
      "profile            84\n",
      "observation        83\n",
      "e                  83\n",
      "involvement        82\n",
      "covs               82\n",
      "set                82\n",
      "inflammation       82\n",
      "crp                82\n",
      "efficiency         82\n",
      "class              81\n",
      "cost               81\n",
      "diabetes           81\n",
      "new                81\n",
      "culture            80\n",
      "morbidity          80\n",
      "implication        80\n",
      "record             79\n",
      "beijing            79\n",
      "supply             79\n",
      "loss               79\n",
      "Length: 500, dtype: int64\n",
      "yup\n"
     ]
    }
   ],
   "source": [
    "print(most_occured_nouns.head(500))\n",
    "if \"respiratory\" in all_nouns: print(\"yup\")"
   ]
  },
  {
   "cell_type": "markdown",
   "metadata": {},
   "source": [
    "# Chekck the final dataframe"
   ]
  },
  {
   "cell_type": "code",
   "execution_count": 9,
   "metadata": {},
   "outputs": [
    {
     "name": "stdout",
     "output_type": "stream",
     "text": [
      "True     3036\n",
      "False    1283\n",
      "Name: Covid-19, dtype: int64\n"
     ]
    },
    {
     "data": {
      "text/plain": [
       "<matplotlib.axes._subplots.AxesSubplot at 0x1a66acbca90>"
      ]
     },
     "execution_count": 9,
     "metadata": {},
     "output_type": "execute_result"
    },
    {
     "data": {
      "image/png": "[encoded data removed]",
      "text/plain": [
       "<Figure size 432x288 with 1 Axes>"
      ]
     },
     "metadata": {
      "needs_background": "light"
     },
     "output_type": "display_data"
    }
   ],
   "source": [
    "import seaborn as sb\n",
    "print(final['Covid-19'].value_counts())\n",
    "sb.countplot(final['Covid-19'])"
   ]
  },
  {
   "cell_type": "code",
   "execution_count": 10,
   "metadata": {},
   "outputs": [
    {
     "name": "stdout",
     "output_type": "stream",
     "text": [
      "False    4070\n",
      "True      249\n",
      "Name: Fever, dtype: int64\n"
     ]
    },
    {
     "data": {
      "text/plain": [
       "<matplotlib.axes._subplots.AxesSubplot at 0x1a60fb75fd0>"
      ]
     },
     "execution_count": 10,
     "metadata": {},
     "output_type": "execute_result"
    },
    {
     "data": {
      "image/png": "[encoded data removed]",
      "text/plain": [
       "<Figure size 432x288 with 1 Axes>"
      ]
     },
     "metadata": {
      "needs_background": "light"
     },
     "output_type": "display_data"
    }
   ],
   "source": [
    "print(final['Fever'].value_counts())\n",
    "sb.countplot(final['Fever'])"
   ]
  },
  {
   "cell_type": "code",
   "execution_count": 11,
   "metadata": {},
   "outputs": [
    {
     "name": "stdout",
     "output_type": "stream",
     "text": [
      "False    4147\n",
      "True      172\n",
      "Name: Cough, dtype: int64\n"
     ]
    },
    {
     "data": {
      "text/plain": [
       "<matplotlib.axes._subplots.AxesSubplot at 0x1a60fba4d68>"
      ]
     },
     "execution_count": 11,
     "metadata": {},
     "output_type": "execute_result"
    },
    {
     "data": {
      "image/png": "[encoded data removed]",
      "text/plain": [
       "<Figure size 432x288 with 1 Axes>"
      ]
     },
     "metadata": {
      "needs_background": "light"
     },
     "output_type": "display_data"
    }
   ],
   "source": [
    "print(final['Cough'].value_counts())\n",
    "sb.countplot(final['Cough'])"
   ]
  },
  {
   "cell_type": "code",
   "execution_count": 12,
   "metadata": {},
   "outputs": [
    {
     "name": "stdout",
     "output_type": "stream",
     "text": [
      "False    3576\n",
      "True      743\n",
      "Name: Respiratory problem, dtype: int64\n"
     ]
    },
    {
     "data": {
      "text/plain": [
       "<matplotlib.axes._subplots.AxesSubplot at 0x1a60fbdf898>"
      ]
     },
     "execution_count": 12,
     "metadata": {},
     "output_type": "execute_result"
    },
    {
     "data": {
      "image/png": "[encoded data removed]",
      "text/plain": [
       "<Figure size 432x288 with 1 Axes>"
      ]
     },
     "metadata": {
      "needs_background": "light"
     },
     "output_type": "display_data"
    }
   ],
   "source": [
    "print(final['Respiratory problem'].value_counts())\n",
    "sb.countplot(final['Respiratory problem'])"
   ]
  },
  {
   "cell_type": "code",
   "execution_count": 13,
   "metadata": {},
   "outputs": [
    {
     "name": "stdout",
     "output_type": "stream",
     "text": [
      "False    3650\n",
      "True      669\n",
      "Name: Pneumonia, dtype: int64\n"
     ]
    },
    {
     "data": {
      "text/plain": [
       "<matplotlib.axes._subplots.AxesSubplot at 0x1a60fc1d588>"
      ]
     },
     "execution_count": 13,
     "metadata": {},
     "output_type": "execute_result"
    },
    {
     "data": {
      "image/png": "[encoded data removed]",
      "text/plain": [
       "<Figure size 432x288 with 1 Axes>"
      ]
     },
     "metadata": {
      "needs_background": "light"
     },
     "output_type": "display_data"
    }
   ],
   "source": [
    "print(final['Pneumonia'].value_counts())\n",
    "sb.countplot(final['Pneumonia'])"
   ]
  },
  {
   "cell_type": "code",
   "execution_count": 14,
   "metadata": {},
   "outputs": [
    {
     "name": "stdout",
     "output_type": "stream",
     "text": [
      "False    4279\n",
      "True       40\n",
      "Name: Diabetes, dtype: int64\n"
     ]
    },
    {
     "data": {
      "text/plain": [
       "<matplotlib.axes._subplots.AxesSubplot at 0x1a60fc61358>"
      ]
     },
     "execution_count": 14,
     "metadata": {},
     "output_type": "execute_result"
    },
    {
     "data": {
      "image/png": "[encoded data removed]",
      "text/plain": [
       "<Figure size 432x288 with 1 Axes>"
      ]
     },
     "metadata": {
      "needs_background": "light"
     },
     "output_type": "display_data"
    }
   ],
   "source": [
    "print(final['Diabetes'].value_counts())\n",
    "sb.countplot(final['Diabetes'])"
   ]
  },
  {
   "cell_type": "code",
   "execution_count": 15,
   "metadata": {},
   "outputs": [
    {
     "name": "stdout",
     "output_type": "stream",
     "text": [
      "      Pneumonia  Fever  Cough  Respiratory problem  Diabetes  Covid-19\n",
      "1784      False  False  False                False     False     False\n",
      "1785      False  False  False                False     False     False\n",
      "1786      False  False  False                False     False     False\n",
      "1787      False  False  False                False     False     False\n",
      "1792      False  False  False                False     False     False\n",
      "1793      False  False  False                False     False     False\n",
      "2557       True  False  False                False     False     False\n",
      "2560      False  False  False                False     False     False\n",
      "2729      False  False  False                False     False     False\n",
      "2730      False  False  False                False     False     False\n"
     ]
    }
   ],
   "source": [
    "print(final.head(10))"
   ]
  },
  {
   "cell_type": "code",
   "execution_count": 16,
   "metadata": {},
   "outputs": [],
   "source": [
    "final.to_csv('Covid dataset.csv',index=False)"
   ]
  }
 ],
 "metadata": {
  "kernelspec": {
   "display_name": "Python 3",
   "language": "python",
   "name": "python3"
  },
  "language_info": {
   "codemirror_mode": {
    "name": "ipython",
    "version": 3
   },
   "file_extension": ".py",
   "mimetype": "text/x-python",
   "name": "python",
   "nbconvert_exporter": "python",
   "pygments_lexer": "ipython3",
   "version": "3.7.3"
  }
 },
 "nbformat": 4,
 "nbformat_minor": 2
}
